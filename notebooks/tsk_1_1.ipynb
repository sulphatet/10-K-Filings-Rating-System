{
  "cells": [
    {
      "cell_type": "code",
      "execution_count": null,
      "metadata": {
        "colab": {
          "base_uri": "https://localhost:8080/"
        },
        "id": "Imh7_VOtjzVZ",
        "outputId": "4cedf364-b38f-4fb7-c6b0-91ff43f75bf4"
      },
      "outputs": [
        {
          "output_type": "stream",
          "name": "stdout",
          "text": [
            "Cloning into 'pipeline-sec-filings'...\n",
            "remote: Enumerating objects: 69, done.\u001b[K\n",
            "remote: Counting objects: 100% (69/69), done.\u001b[K\n",
            "remote: Compressing objects: 100% (63/63), done.\u001b[K\n",
            "remote: Total 69 (delta 2), reused 42 (delta 1), pack-reused 0\u001b[K\n",
            "Receiving objects: 100% (69/69), 216.03 KiB | 3.38 MiB/s, done.\n",
            "Resolving deltas: 100% (2/2), done.\n",
            "/content/pipeline-sec-filings/pipeline-sec-filings/pipeline-sec-filings\n"
          ]
        }
      ],
      "source": [
        "# Install pipeline-sec-filings\n",
        "!git clone https://github.com/Unstructured-IO/pipeline-sec-filings.git --depth=1\n",
        "%cd pipeline-sec-filings"
      ]
    },
    {
      "cell_type": "code",
      "source": [],
      "metadata": {
        "id": "f3gCOvWoDsDq"
      },
      "execution_count": null,
      "outputs": []
    },
    {
      "cell_type": "code",
      "execution_count": null,
      "metadata": {
        "id": "o9EfIXHa8Tsd"
      },
      "outputs": [],
      "source": [
        "# Install Python requirements\n",
        "!pip install -q ratelimit unstructured==0.4.6\n",
        "# upgrade to the latest, though has not been tested\n",
        "# !pip install -q --upgrade ratelimit unstructured"
      ]
    },
    {
      "cell_type": "code",
      "execution_count": null,
      "metadata": {
        "colab": {
          "base_uri": "https://localhost:8080/"
        },
        "id": "A9ZX3IUKGd6v",
        "outputId": "8d62bf9c-ea23-4873-dd84-35654cd3ee31"
      },
      "outputs": [
        {
          "output_type": "stream",
          "name": "stderr",
          "text": [
            "[nltk_data] Downloading package punkt to /root/nltk_data...\n",
            "[nltk_data]   Package punkt is already up-to-date!\n",
            "[nltk_data] Downloading package averaged_perceptron_tagger to\n",
            "[nltk_data]     /root/nltk_data...\n",
            "[nltk_data]   Package averaged_perceptron_tagger is already up-to-\n",
            "[nltk_data]       date!\n"
          ]
        },
        {
          "output_type": "execute_result",
          "data": {
            "text/plain": [
              "True"
            ]
          },
          "metadata": {},
          "execution_count": 28
        }
      ],
      "source": [
        "# Install NLTK Data\n",
        "import nltk\n",
        "nltk.download('punkt')\n",
        "nltk.download('averaged_perceptron_tagger')"
      ]
    },
    {
      "cell_type": "code",
      "source": [
        "!mkdir clean"
      ],
      "metadata": {
        "id": "6N4xhyxmysRp"
      },
      "execution_count": null,
      "outputs": []
    },
    {
      "cell_type": "code",
      "source": [
        "!mkdir unclean"
      ],
      "metadata": {
        "id": "YMaBnBZJyzSz"
      },
      "execution_count": null,
      "outputs": []
    },
    {
      "cell_type": "code",
      "source": [
        "!mkdir unclean/AAPL"
      ],
      "metadata": {
        "id": "NUntYeZgy2FK"
      },
      "execution_count": null,
      "outputs": []
    },
    {
      "cell_type": "code",
      "source": [
        "import os"
      ],
      "metadata": {
        "id": "wsLc6jy60hsf"
      },
      "execution_count": null,
      "outputs": []
    },
    {
      "cell_type": "code",
      "source": [
        "import io\n",
        "\n",
        "\n",
        "# pipeline-api\n",
        "class timeout:\n",
        "    def __init__(self, seconds=1, error_message='Timeout'):\n",
        "        self.seconds = seconds\n",
        "        self.error_message = error_message\n",
        "    def handle_timeout(self, signum, frame):\n",
        "        raise TimeoutError(self.error_message)\n",
        "    def __enter__(self):\n",
        "        try:\n",
        "            signal.signal(signal.SIGALRM, self.handle_timeout)\n",
        "            signal.alarm(self.seconds)\n",
        "        except ValueError:\n",
        "            pass\n",
        "    def __exit__(self, type, value, traceback):\n",
        "        try:\n",
        "            signal.alarm(0)\n",
        "        except ValueError:\n",
        "            pass\n",
        "\n",
        "# pipeline-api\n",
        "def get_regex_enum(section_regex):\n",
        "    class CustomSECSection(Enum):\n",
        "        CUSTOM = re.compile(section_regex)\n",
        "\n",
        "        @property\n",
        "        def pattern(self):\n",
        "            return self.value\n",
        "\n",
        "    return CustomSECSection.CUSTOM\n",
        "\n",
        "# pipeline-api\n",
        "import csv\n",
        "from typing import Dict\n",
        "from unstructured.documents.elements import Text, NarrativeText, Title, ListItem\n",
        "def convert_to_isd_csv(results:dict) -> str:\n",
        "    \"\"\"\n",
        "    Returns the representation of document elements as an Initial Structured Document (ISD)\n",
        "    in CSV Format.\n",
        "    \"\"\"\n",
        "    csv_fieldnames: List[str] = [\"section\", \"element_type\", \"text\"]\n",
        "    new_rows = []\n",
        "    for section, section_narrative in results.items():\n",
        "        rows: List[Dict[str, str]] = convert_to_isd(section_narrative)\n",
        "        for row in rows:\n",
        "            new_row_item = dict()\n",
        "            new_row_item[\"section\"] = section\n",
        "            new_row_item[\"element_type\"] = row[\"type\"]\n",
        "            new_row_item[\"text\"] = row[\"text\"]\n",
        "            new_rows.append(new_row_item)\n",
        "\n",
        "    with io.StringIO() as buffer:\n",
        "        csv_writer = csv.DictWriter(buffer, fieldnames=csv_fieldnames)\n",
        "        csv_writer.writeheader()\n",
        "        csv_writer.writerows(new_rows)\n",
        "        return buffer.getvalue()\n",
        "\n",
        "# pipeline-api\n",
        "from unstructured.staging.label_studio import stage_for_label_studio\n",
        "\n",
        "# List of valid response schemas\n",
        "LABELSTUDIO = \"labelstudio\"\n",
        "ISD = \"isd\"\n",
        "\n",
        "def pipeline_api(text, response_type=\"application/json\", response_schema=\"isd\", m_section=[], m_section_regex=[]):\n",
        "    \"\"\"Many supported sections including: RISK_FACTORS, MANAGEMENT_DISCUSSION, and many more\"\"\"\n",
        "    validate_section_names(m_section)\n",
        "\n",
        "    sec_document = SECDocument.from_string(text)\n",
        "    if sec_document.filing_type not in VALID_FILING_TYPES:\n",
        "        raise ValueError(\n",
        "            f\"SEC document filing type {sec_document.filing_type} is not supported, \"\n",
        "            f\"must be one of {','.join(VALID_FILING_TYPES)}\"\n",
        "        )\n",
        "    results = {}\n",
        "    if m_section == [ALL_SECTIONS]:\n",
        "        filing_type = sec_document.filing_type\n",
        "        if filing_type in REPORT_TYPES:\n",
        "            if filing_type.startswith(\"10-K\"):\n",
        "                m_section = [enum.name for enum in SECTIONS_10K]\n",
        "            elif filing_type.startswith(\"10-Q\"):\n",
        "                m_section = [enum.name for enum in SECTIONS_10Q]\n",
        "            else:\n",
        "                raise ValueError(f\"Invalid report type: {filing_type}\")\n",
        "\n",
        "        else:\n",
        "            m_section = [enum.name for enum in SECTIONS_S1]\n",
        "    for section in m_section:\n",
        "        results[section] = sec_document.get_section_narrative(\n",
        "            section_string_to_enum[section]\n",
        "        )\n",
        "    for i, section_regex in enumerate(m_section_regex):\n",
        "        regex_enum = get_regex_enum(section_regex)\n",
        "        with timeout(seconds=5):\n",
        "            section_elements = sec_document.get_section_narrative(regex_enum)\n",
        "            results[f\"REGEX_{i}\"] = section_elements\n",
        "    if response_type == \"application/json\":\n",
        "        if response_schema == LABELSTUDIO:\n",
        "            return {section:stage_for_label_studio(section_narrative) for section, section_narrative in results.items()}\n",
        "        elif response_schema == ISD:\n",
        "            return {section:convert_to_isd(section_narrative) for section, section_narrative in results.items()}\n",
        "        else:\n",
        "            raise ValueError(f\"output_schema '{response_schema}' is not supported for {response_type}\")\n",
        "    elif response_type == \"text/csv\":\n",
        "        if response_schema != ISD:\n",
        "            raise ValueError(f\"output_schema '{response_schema}' is not supported for {response_type}\")\n",
        "        return convert_to_isd_csv(results)\n",
        "    else:\n",
        "        raise ValueError(f\"response_type '{response_type}' is not supported\")\n",
        "\n",
        "def _get_session(company: Optional[str] = None, email: Optional[str] = None) -> requests.Session:\n",
        "    \"\"\"Creates a requests sessions with the appropriate headers set. If these headers are not\n",
        "    set, SEC will reject your request.\n",
        "    ref: https://www.sec.gov/os/accessing-edgar-data\"\"\"\n",
        "    if company is None:\n",
        "        company = os.environ.get(\"SEC_API_ORGANIZATION\")\n",
        "    if email is None:\n",
        "        email = os.environ.get(\"SEC_API_EMAIL\")\n",
        "    assert company\n",
        "    assert email\n",
        "    session = requests.Session()\n",
        "    session.headers.update(\n",
        "        {\n",
        "            \"User-Agent\": f\"{company} {email}\",\n",
        "            \"Content-Type\": \"text/html\",\n",
        "        }\n",
        "    )\n",
        "    return session\n",
        "\n",
        "session = _get_session(\"IITM\", \"21f1001906@ds.study.iitm.ac.in\")\n",
        "\n",
        "def _drop_dashes(accession_number: Union[str, int]) -> str:\n",
        "    \"\"\"Converts the accession number to the no dash representation.\"\"\"\n",
        "    accession_number = str(accession_number).replace(\"-\", \"\")\n",
        "    return accession_number.zfill(18)\n",
        "\n",
        "from datetime import datetime\n",
        "from bs4 import BeautifulSoup\n",
        "\n",
        "def get_10k_filings_by_ticker_with_years(ticker: str,\n",
        "                                         company: Optional[str] = \"IITM\",\n",
        "                                         email: Optional[str] = \"21f1001906@ds.study.iitm.ac.in\") -> List[Tuple[int, str]]:\n",
        "    session = _get_session(company, email)\n",
        "    cik = get_cik_by_ticker(session, ticker)\n",
        "    forms_dict = get_forms_by_cik(session, cik)\n",
        "    ten_k_filings = []\n",
        "    for accession_number, form_type in forms_dict.items():\n",
        "        if form_type == \"10-K\":\n",
        "            text = get_filing(cik, _drop_dashes(accession_number), company, email)\n",
        "            year = extract_filing_year(text)\n",
        "            ten_k_filings.append((year, text))\n",
        "    return ten_k_filings\n",
        "\n",
        "def extract_filing_year(text: str) -> int:\n",
        "    # Extract the filing year from the text content of the filing\n",
        "    pattern = re.compile(r\"CONFORMED PERIOD OF REPORT:\\s*(\\d{4})\\d{4}\")\n",
        "    match = pattern.search(text)\n",
        "    if match:\n",
        "        return int(match.group(1))\n",
        "    else:\n",
        "        raise ValueError(\"Unable to extract filing year\")\n",
        "\n",
        "# Example usage\n",
        "tickers = [\"AAPL\",\"RGLD\",\"IBM\"]\n",
        "\n",
        "for tick in tickers:\n",
        "    ten_k_filings_with_years = get_10k_filings_by_ticker_with_years(tick)\n",
        "    print(\"==========================\")\n",
        "    print(tick)\n",
        "    for year, filing_text in ten_k_filings_with_years:\n",
        "        print(f\"Year: {year}\")\n",
        "\n",
        "        if not os.path.exists(f'unclean/{tick}'):\n",
        "            os.makedirs(f'unclean/{tick}')\n",
        "\n",
        "        with open(f'unclean/{tick}/{year}.txt', 'w') as out:\n",
        "            out.write(filing_text)\n",
        "\n",
        "        all_narratives = pipeline_api(filing_text, response_type=\"text/csv\", m_section=[\"_ALL\"])\n",
        "\n",
        "        print(all_narratives[:3])\n",
        "        if not os.path.exists(f'clean/{tick}'):\n",
        "            os.makedirs(f'clean/{tick}')\n",
        "\n",
        "        with open(f'clean/{tick}/{year}.csv', 'w') as out:\n",
        "            out.write(all_narratives)"
      ],
      "metadata": {
        "colab": {
          "base_uri": "https://localhost:8080/",
          "height": 468
        },
        "id": "MYrvLvZzM4-y",
        "outputId": "6ac53f85-ab81-4156-e420-09149b465558"
      },
      "execution_count": null,
      "outputs": [
        {
          "output_type": "stream",
          "name": "stdout",
          "text": [
            "==========================\n",
            "AAPL\n",
            "Year: 2023\n",
            "sec\n",
            "Year: 2022\n"
          ]
        },
        {
          "output_type": "error",
          "ename": "KeyboardInterrupt",
          "evalue": "",
          "traceback": [
            "\u001b[0;31m---------------------------------------------------------------------------\u001b[0m",
            "\u001b[0;31mKeyboardInterrupt\u001b[0m                         Traceback (most recent call last)",
            "\u001b[0;32m<ipython-input-32-2224dbfdfad4>\u001b[0m in \u001b[0;36m<cell line: 168>\u001b[0;34m()\u001b[0m\n\u001b[1;32m    179\u001b[0m             \u001b[0mout\u001b[0m\u001b[0;34m.\u001b[0m\u001b[0mwrite\u001b[0m\u001b[0;34m(\u001b[0m\u001b[0mfiling_text\u001b[0m\u001b[0;34m)\u001b[0m\u001b[0;34m\u001b[0m\u001b[0;34m\u001b[0m\u001b[0m\n\u001b[1;32m    180\u001b[0m \u001b[0;34m\u001b[0m\u001b[0m\n\u001b[0;32m--> 181\u001b[0;31m         \u001b[0mall_narratives\u001b[0m \u001b[0;34m=\u001b[0m \u001b[0mpipeline_api\u001b[0m\u001b[0;34m(\u001b[0m\u001b[0mfiling_text\u001b[0m\u001b[0;34m,\u001b[0m \u001b[0mresponse_type\u001b[0m\u001b[0;34m=\u001b[0m\u001b[0;34m\"text/csv\"\u001b[0m\u001b[0;34m,\u001b[0m \u001b[0mm_section\u001b[0m\u001b[0;34m=\u001b[0m\u001b[0;34m[\u001b[0m\u001b[0;34m\"_ALL\"\u001b[0m\u001b[0;34m]\u001b[0m\u001b[0;34m)\u001b[0m\u001b[0;34m\u001b[0m\u001b[0;34m\u001b[0m\u001b[0m\n\u001b[0m\u001b[1;32m    182\u001b[0m \u001b[0;34m\u001b[0m\u001b[0m\n\u001b[1;32m    183\u001b[0m         \u001b[0mprint\u001b[0m\u001b[0;34m(\u001b[0m\u001b[0mall_narratives\u001b[0m\u001b[0;34m[\u001b[0m\u001b[0;34m:\u001b[0m\u001b[0;36m3\u001b[0m\u001b[0;34m]\u001b[0m\u001b[0;34m)\u001b[0m\u001b[0;34m\u001b[0m\u001b[0;34m\u001b[0m\u001b[0m\n",
            "\u001b[0;32m<ipython-input-32-2224dbfdfad4>\u001b[0m in \u001b[0;36mpipeline_api\u001b[0;34m(text, response_type, response_schema, m_section, m_section_regex)\u001b[0m\n\u001b[1;32m     89\u001b[0m             \u001b[0mm_section\u001b[0m \u001b[0;34m=\u001b[0m \u001b[0;34m[\u001b[0m\u001b[0menum\u001b[0m\u001b[0;34m.\u001b[0m\u001b[0mname\u001b[0m \u001b[0;32mfor\u001b[0m \u001b[0menum\u001b[0m \u001b[0;32min\u001b[0m \u001b[0mSECTIONS_S1\u001b[0m\u001b[0;34m]\u001b[0m\u001b[0;34m\u001b[0m\u001b[0;34m\u001b[0m\u001b[0m\n\u001b[1;32m     90\u001b[0m     \u001b[0;32mfor\u001b[0m \u001b[0msection\u001b[0m \u001b[0;32min\u001b[0m \u001b[0mm_section\u001b[0m\u001b[0;34m:\u001b[0m\u001b[0;34m\u001b[0m\u001b[0;34m\u001b[0m\u001b[0m\n\u001b[0;32m---> 91\u001b[0;31m         results[section] = sec_document.get_section_narrative(\n\u001b[0m\u001b[1;32m     92\u001b[0m             \u001b[0msection_string_to_enum\u001b[0m\u001b[0;34m[\u001b[0m\u001b[0msection\u001b[0m\u001b[0;34m]\u001b[0m\u001b[0;34m\u001b[0m\u001b[0;34m\u001b[0m\u001b[0m\n\u001b[1;32m     93\u001b[0m         )\n",
            "\u001b[0;32m/content/pipeline-sec-filings/pipeline-sec-filings/prepline_sec_filings/sec_document.py\u001b[0m in \u001b[0;36mget_section_narrative\u001b[0;34m(self, section)\u001b[0m\n\u001b[1;32m    163\u001b[0m         \u001b[0;31m# usually does not contain any tables and sometimes tables are used for\u001b[0m\u001b[0;34m\u001b[0m\u001b[0;34m\u001b[0m\u001b[0m\n\u001b[1;32m    164\u001b[0m         \u001b[0;31m# title formating\u001b[0m\u001b[0;34m\u001b[0m\u001b[0;34m\u001b[0m\u001b[0m\n\u001b[0;32m--> 165\u001b[0;31m         \u001b[0mtoc\u001b[0m \u001b[0;34m=\u001b[0m \u001b[0mself\u001b[0m\u001b[0;34m.\u001b[0m\u001b[0mget_table_of_contents\u001b[0m\u001b[0;34m(\u001b[0m\u001b[0;34m)\u001b[0m\u001b[0;34m\u001b[0m\u001b[0;34m\u001b[0m\u001b[0m\n\u001b[0m\u001b[1;32m    166\u001b[0m         \u001b[0;32mif\u001b[0m \u001b[0;32mnot\u001b[0m \u001b[0mtoc\u001b[0m\u001b[0;34m.\u001b[0m\u001b[0mpages\u001b[0m\u001b[0;34m:\u001b[0m\u001b[0;34m\u001b[0m\u001b[0;34m\u001b[0m\u001b[0m\n\u001b[1;32m    167\u001b[0m             \u001b[0;32mreturn\u001b[0m \u001b[0mself\u001b[0m\u001b[0;34m.\u001b[0m\u001b[0mget_section_narrative_no_toc\u001b[0m\u001b[0;34m(\u001b[0m\u001b[0msection\u001b[0m\u001b[0;34m)\u001b[0m\u001b[0;34m\u001b[0m\u001b[0;34m\u001b[0m\u001b[0m\n",
            "\u001b[0;32m/content/pipeline-sec-filings/pipeline-sec-filings/prepline_sec_filings/sec_document.py\u001b[0m in \u001b[0;36mget_table_of_contents\u001b[0;34m(self)\u001b[0m\n\u001b[1;32m     88\u001b[0m         \u001b[0mout_cls\u001b[0m \u001b[0;34m=\u001b[0m \u001b[0mself\u001b[0m\u001b[0;34m.\u001b[0m\u001b[0m__class__\u001b[0m\u001b[0;34m\u001b[0m\u001b[0;34m\u001b[0m\u001b[0m\n\u001b[1;32m     89\u001b[0m         \u001b[0m_raise_for_invalid_filing_type\u001b[0m\u001b[0;34m(\u001b[0m\u001b[0mself\u001b[0m\u001b[0;34m.\u001b[0m\u001b[0mfiling_type\u001b[0m\u001b[0;34m)\u001b[0m\u001b[0;34m\u001b[0m\u001b[0;34m\u001b[0m\u001b[0m\n\u001b[0;32m---> 90\u001b[0;31m         \u001b[0mtitle_locs\u001b[0m \u001b[0;34m=\u001b[0m \u001b[0mto_sklearn_format\u001b[0m\u001b[0;34m(\u001b[0m\u001b[0mself\u001b[0m\u001b[0;34m.\u001b[0m\u001b[0melements\u001b[0m\u001b[0;34m)\u001b[0m\u001b[0;34m\u001b[0m\u001b[0;34m\u001b[0m\u001b[0m\n\u001b[0m\u001b[1;32m     91\u001b[0m         \u001b[0;32mif\u001b[0m \u001b[0mlen\u001b[0m\u001b[0;34m(\u001b[0m\u001b[0mtitle_locs\u001b[0m\u001b[0;34m)\u001b[0m \u001b[0;34m==\u001b[0m \u001b[0;36m0\u001b[0m\u001b[0;34m:\u001b[0m\u001b[0;34m\u001b[0m\u001b[0;34m\u001b[0m\u001b[0m\n\u001b[1;32m     92\u001b[0m             \u001b[0;32mreturn\u001b[0m \u001b[0mout_cls\u001b[0m\u001b[0;34m.\u001b[0m\u001b[0mfrom_elements\u001b[0m\u001b[0;34m(\u001b[0m\u001b[0;34m[\u001b[0m\u001b[0;34m]\u001b[0m\u001b[0;34m)\u001b[0m\u001b[0;34m\u001b[0m\u001b[0;34m\u001b[0m\u001b[0m\n",
            "\u001b[0;32m/content/pipeline-sec-filings/pipeline-sec-filings/prepline_sec_filings/sec_document.py\u001b[0m in \u001b[0;36mto_sklearn_format\u001b[0;34m(elements)\u001b[0m\n\u001b[1;32m    338\u001b[0m     \"\"\"\n\u001b[1;32m    339\u001b[0m     is_title: npt.NDArray[np.bool_] = np.array(\n\u001b[0;32m--> 340\u001b[0;31m         \u001b[0;34m[\u001b[0m\u001b[0mis_possible_title\u001b[0m\u001b[0;34m(\u001b[0m\u001b[0mel\u001b[0m\u001b[0;34m.\u001b[0m\u001b[0mtext\u001b[0m\u001b[0;34m)\u001b[0m \u001b[0;32mfor\u001b[0m \u001b[0mel\u001b[0m \u001b[0;32min\u001b[0m \u001b[0melements\u001b[0m\u001b[0;34m]\u001b[0m\u001b[0;34m[\u001b[0m\u001b[0;34m:\u001b[0m \u001b[0mlen\u001b[0m\u001b[0;34m(\u001b[0m\u001b[0melements\u001b[0m\u001b[0;34m)\u001b[0m\u001b[0;34m]\u001b[0m\u001b[0;34m,\u001b[0m \u001b[0mdtype\u001b[0m\u001b[0;34m=\u001b[0m\u001b[0mbool\u001b[0m\u001b[0;34m\u001b[0m\u001b[0;34m\u001b[0m\u001b[0m\n\u001b[0m\u001b[1;32m    341\u001b[0m     )\n\u001b[1;32m    342\u001b[0m     \u001b[0mtitle_locs\u001b[0m \u001b[0;34m=\u001b[0m \u001b[0mnp\u001b[0m\u001b[0;34m.\u001b[0m\u001b[0marange\u001b[0m\u001b[0;34m(\u001b[0m\u001b[0mlen\u001b[0m\u001b[0;34m(\u001b[0m\u001b[0mis_title\u001b[0m\u001b[0;34m)\u001b[0m\u001b[0;34m)\u001b[0m\u001b[0;34m.\u001b[0m\u001b[0mastype\u001b[0m\u001b[0;34m(\u001b[0m\u001b[0mnp\u001b[0m\u001b[0;34m.\u001b[0m\u001b[0mfloat32\u001b[0m\u001b[0;34m)\u001b[0m\u001b[0;34m[\u001b[0m\u001b[0mis_title\u001b[0m\u001b[0;34m]\u001b[0m\u001b[0;34m.\u001b[0m\u001b[0mreshape\u001b[0m\u001b[0;34m(\u001b[0m\u001b[0;34m-\u001b[0m\u001b[0;36m1\u001b[0m\u001b[0;34m,\u001b[0m \u001b[0;36m1\u001b[0m\u001b[0;34m)\u001b[0m\u001b[0;34m\u001b[0m\u001b[0;34m\u001b[0m\u001b[0m\n",
            "\u001b[0;32m/content/pipeline-sec-filings/pipeline-sec-filings/prepline_sec_filings/sec_document.py\u001b[0m in \u001b[0;36m<listcomp>\u001b[0;34m(.0)\u001b[0m\n\u001b[1;32m    338\u001b[0m     \"\"\"\n\u001b[1;32m    339\u001b[0m     is_title: npt.NDArray[np.bool_] = np.array(\n\u001b[0;32m--> 340\u001b[0;31m         \u001b[0;34m[\u001b[0m\u001b[0mis_possible_title\u001b[0m\u001b[0;34m(\u001b[0m\u001b[0mel\u001b[0m\u001b[0;34m.\u001b[0m\u001b[0mtext\u001b[0m\u001b[0;34m)\u001b[0m \u001b[0;32mfor\u001b[0m \u001b[0mel\u001b[0m \u001b[0;32min\u001b[0m \u001b[0melements\u001b[0m\u001b[0;34m]\u001b[0m\u001b[0;34m[\u001b[0m\u001b[0;34m:\u001b[0m \u001b[0mlen\u001b[0m\u001b[0;34m(\u001b[0m\u001b[0melements\u001b[0m\u001b[0;34m)\u001b[0m\u001b[0;34m]\u001b[0m\u001b[0;34m,\u001b[0m \u001b[0mdtype\u001b[0m\u001b[0;34m=\u001b[0m\u001b[0mbool\u001b[0m\u001b[0;34m\u001b[0m\u001b[0;34m\u001b[0m\u001b[0m\n\u001b[0m\u001b[1;32m    341\u001b[0m     )\n\u001b[1;32m    342\u001b[0m     \u001b[0mtitle_locs\u001b[0m \u001b[0;34m=\u001b[0m \u001b[0mnp\u001b[0m\u001b[0;34m.\u001b[0m\u001b[0marange\u001b[0m\u001b[0;34m(\u001b[0m\u001b[0mlen\u001b[0m\u001b[0;34m(\u001b[0m\u001b[0mis_title\u001b[0m\u001b[0;34m)\u001b[0m\u001b[0;34m)\u001b[0m\u001b[0;34m.\u001b[0m\u001b[0mastype\u001b[0m\u001b[0;34m(\u001b[0m\u001b[0mnp\u001b[0m\u001b[0;34m.\u001b[0m\u001b[0mfloat32\u001b[0m\u001b[0;34m)\u001b[0m\u001b[0;34m[\u001b[0m\u001b[0mis_title\u001b[0m\u001b[0;34m]\u001b[0m\u001b[0;34m.\u001b[0m\u001b[0mreshape\u001b[0m\u001b[0;34m(\u001b[0m\u001b[0;34m-\u001b[0m\u001b[0;36m1\u001b[0m\u001b[0;34m,\u001b[0m \u001b[0;36m1\u001b[0m\u001b[0;34m)\u001b[0m\u001b[0;34m\u001b[0m\u001b[0;34m\u001b[0m\u001b[0m\n",
            "\u001b[0;32m/usr/local/lib/python3.10/dist-packages/unstructured/partition/text_type.py\u001b[0m in \u001b[0;36mis_possible_title\u001b[0;34m(text, sentence_min_length, title_max_word_length, non_alpha_threshold, language)\u001b[0m\n\u001b[1;32m    119\u001b[0m         \u001b[0;32mreturn\u001b[0m \u001b[0;32mFalse\u001b[0m\u001b[0;34m\u001b[0m\u001b[0;34m\u001b[0m\u001b[0m\n\u001b[1;32m    120\u001b[0m \u001b[0;34m\u001b[0m\u001b[0m\n\u001b[0;32m--> 121\u001b[0;31m     \u001b[0;32mif\u001b[0m \u001b[0mlanguage\u001b[0m \u001b[0;34m==\u001b[0m \u001b[0;34m\"en\"\u001b[0m \u001b[0;32mand\u001b[0m \u001b[0;32mnot\u001b[0m \u001b[0mcontains_english_word\u001b[0m\u001b[0;34m(\u001b[0m\u001b[0mtext\u001b[0m\u001b[0;34m)\u001b[0m\u001b[0;34m:\u001b[0m\u001b[0;34m\u001b[0m\u001b[0;34m\u001b[0m\u001b[0m\n\u001b[0m\u001b[1;32m    122\u001b[0m         \u001b[0;32mreturn\u001b[0m \u001b[0;32mFalse\u001b[0m\u001b[0;34m\u001b[0m\u001b[0;34m\u001b[0m\u001b[0m\n\u001b[1;32m    123\u001b[0m \u001b[0;34m\u001b[0m\u001b[0m\n",
            "\u001b[0;31mKeyboardInterrupt\u001b[0m: "
          ]
        }
      ]
    },
    {
      "cell_type": "code",
      "source": [
        "import io\n",
        "\n",
        "\n",
        "# pipeline-api\n",
        "class timeout:\n",
        "    def __init__(self, seconds=1, error_message='Timeout'):\n",
        "        self.seconds = seconds\n",
        "        self.error_message = error_message\n",
        "    def handle_timeout(self, signum, frame):\n",
        "        raise TimeoutError(self.error_message)\n",
        "    def __enter__(self):\n",
        "        try:\n",
        "            signal.signal(signal.SIGALRM, self.handle_timeout)\n",
        "            signal.alarm(self.seconds)\n",
        "        except ValueError:\n",
        "            pass\n",
        "    def __exit__(self, type, value, traceback):\n",
        "        try:\n",
        "            signal.alarm(0)\n",
        "        except ValueError:\n",
        "            pass\n",
        "\n",
        "# pipeline-api\n",
        "def get_regex_enum(section_regex):\n",
        "    class CustomSECSection(Enum):\n",
        "        CUSTOM = re.compile(section_regex)\n",
        "\n",
        "        @property\n",
        "        def pattern(self):\n",
        "            return self.value\n",
        "\n",
        "    return CustomSECSection.CUSTOM\n",
        "\n",
        "# pipeline-api\n",
        "import csv\n",
        "from typing import Dict\n",
        "from unstructured.documents.elements import Text, NarrativeText, Title, ListItem\n",
        "def convert_to_isd_csv(results:dict) -> str:\n",
        "    \"\"\"\n",
        "    Returns the representation of document elements as an Initial Structured Document (ISD)\n",
        "    in CSV Format.\n",
        "    \"\"\"\n",
        "    csv_fieldnames: List[str] = [\"section\", \"element_type\", \"text\"]\n",
        "    new_rows = []\n",
        "    for section, section_narrative in results.items():\n",
        "        rows: List[Dict[str, str]] = convert_to_isd(section_narrative)\n",
        "        for row in rows:\n",
        "            new_row_item = dict()\n",
        "            new_row_item[\"section\"] = section\n",
        "            new_row_item[\"element_type\"] = row[\"type\"]\n",
        "            new_row_item[\"text\"] = row[\"text\"]\n",
        "            new_rows.append(new_row_item)\n",
        "\n",
        "    with io.StringIO() as buffer:\n",
        "        csv_writer = csv.DictWriter(buffer, fieldnames=csv_fieldnames)\n",
        "        csv_writer.writeheader()\n",
        "        csv_writer.writerows(new_rows)\n",
        "        return buffer.getvalue()\n",
        "\n",
        "# pipeline-api\n",
        "from unstructured.staging.label_studio import stage_for_label_studio\n",
        "\n",
        "# List of valid response schemas\n",
        "LABELSTUDIO = \"labelstudio\"\n",
        "ISD = \"isd\"\n",
        "\n",
        "def pipeline_api(text, response_type=\"application/json\", response_schema=\"isd\", m_section=[], m_section_regex=[]):\n",
        "    \"\"\"Many supported sections including: RISK_FACTORS, MANAGEMENT_DISCUSSION, and many more\"\"\"\n",
        "    validate_section_names(m_section)\n",
        "\n",
        "    sec_document = SECDocument.from_string(text)\n",
        "    if sec_document.filing_type not in VALID_FILING_TYPES:\n",
        "        raise ValueError(\n",
        "            f\"SEC document filing type {sec_document.filing_type} is not supported, \"\n",
        "            f\"must be one of {','.join(VALID_FILING_TYPES)}\"\n",
        "        )\n",
        "    results = {}\n",
        "    if m_section == [ALL_SECTIONS]:\n",
        "        filing_type = sec_document.filing_type\n",
        "        if filing_type in REPORT_TYPES:\n",
        "            if filing_type.startswith(\"10-K\"):\n",
        "                m_section = [enum.name for enum in SECTIONS_10K]\n",
        "            elif filing_type.startswith(\"10-Q\"):\n",
        "                m_section = [enum.name for enum in SECTIONS_10Q]\n",
        "            else:\n",
        "                raise ValueError(f\"Invalid report type: {filing_type}\")\n",
        "\n",
        "        else:\n",
        "            m_section = [enum.name for enum in SECTIONS_S1]\n",
        "    for section in m_section:\n",
        "        results[section] = sec_document.get_section_narrative(\n",
        "            section_string_to_enum[section]\n",
        "        )\n",
        "    for i, section_regex in enumerate(m_section_regex):\n",
        "        regex_enum = get_regex_enum(section_regex)\n",
        "        with timeout(seconds=5):\n",
        "            section_elements = sec_document.get_section_narrative(regex_enum)\n",
        "            results[f\"REGEX_{i}\"] = section_elements\n",
        "    if response_type == \"application/json\":\n",
        "        if response_schema == LABELSTUDIO:\n",
        "            return {section:stage_for_label_studio(section_narrative) for section, section_narrative in results.items()}\n",
        "        elif response_schema == ISD:\n",
        "            return {section:convert_to_isd(section_narrative) for section, section_narrative in results.items()}\n",
        "        else:\n",
        "            raise ValueError(f\"output_schema '{response_schema}' is not supported for {response_type}\")\n",
        "    elif response_type == \"text/csv\":\n",
        "        if response_schema != ISD:\n",
        "            raise ValueError(f\"output_schema '{response_schema}' is not supported for {response_type}\")\n",
        "        return convert_to_isd_csv(results)\n",
        "    else:\n",
        "        raise ValueError(f\"response_type '{response_type}' is not supported\")\n",
        "\n",
        "def _get_session(company: Optional[str] = None, email: Optional[str] = None) -> requests.Session:\n",
        "    \"\"\"Creates a requests sessions with the appropriate headers set. If these headers are not\n",
        "    set, SEC will reject your request.\n",
        "    ref: https://www.sec.gov/os/accessing-edgar-data\"\"\"\n",
        "    if company is None:\n",
        "        company = os.environ.get(\"SEC_API_ORGANIZATION\")\n",
        "    if email is None:\n",
        "        email = os.environ.get(\"SEC_API_EMAIL\")\n",
        "    assert company\n",
        "    assert email\n",
        "    session = requests.Session()\n",
        "    session.headers.update(\n",
        "        {\n",
        "            \"User-Agent\": f\"{company} {email}\",\n",
        "            \"Content-Type\": \"text/html\",\n",
        "        }\n",
        "    )\n",
        "    return session\n",
        "\n",
        "session = _get_session(\"IITM\", \"21f1001906@ds.study.iitm.ac.in\")\n",
        "\n",
        "def _drop_dashes(accession_number: Union[str, int]) -> str:\n",
        "    \"\"\"Converts the accession number to the no dash representation.\"\"\"\n",
        "    accession_number = str(accession_number).replace(\"-\", \"\")\n",
        "    return accession_number.zfill(18)\n",
        "\n",
        "from datetime import datetime\n",
        "from bs4 import BeautifulSoup\n",
        "\n",
        "def get_10k_filings_by_ticker_with_years(ticker: str,\n",
        "                                         company: Optional[str] = \"IITM\",\n",
        "                                         email: Optional[str] = \"21f1001906@ds.study.iitm.ac.in\") -> List[Tuple[int, str]]:\n",
        "    session = _get_session(company, email)\n",
        "    cik = get_cik_by_ticker(session, ticker)\n",
        "    forms_dict = get_forms_by_cik(session, cik)\n",
        "    ten_k_filings = []\n",
        "    for accession_number, form_type in forms_dict.items():\n",
        "        if form_type == \"10-K\":\n",
        "            text = get_filing(cik, _drop_dashes(accession_number), company, email)\n",
        "            year = extract_filing_year(text)\n",
        "            ten_k_filings.append((year, text))\n",
        "    return ten_k_filings\n",
        "\n",
        "def extract_filing_year(text: str) -> int:\n",
        "    # Extract the filing year from the text content of the filing\n",
        "    pattern = re.compile(r\"CONFORMED PERIOD OF REPORT:\\s*(\\d{4})\\d{4}\")\n",
        "    match = pattern.search(text)\n",
        "    if match:\n",
        "        return int(match.group(1))\n",
        "    else:\n",
        "        raise ValueError(\"Unable to extract filing year\")\n",
        "\n",
        "# Example usage\n",
        "tickers = [\"AAPL\",\"RGLD\",\"IBM\"]\n",
        "\n",
        "for tick in tickers:\n",
        "    ten_k_filings_with_years = get_10k_filings_by_ticker_with_years(tick)\n",
        "    print(\"==========================\")\n",
        "    print(tick)\n",
        "    for year, filing_text in ten_k_filings_with_years:\n",
        "        print(f\"Year: {year}\")\n",
        "\n",
        "        if not os.path.exists(f'unclean/{tick}'):\n",
        "            os.makedirs(f'unclean/{tick}')\n",
        "\n",
        "        with open(f'unclean/{tick}/{year}.txt', 'w') as out:\n",
        "            out.write(filing_text)\n",
        "\n",
        "        all_narratives = pipeline_api(filing_text, response_type=\"text/csv\", m_section=[\"_ALL\"])\n",
        "\n",
        "        if not os.path.exists(f'clean/{tick}'):\n",
        "            os.makedirs(f'clean/{tick}')\n",
        "\n",
        "        with open(f'clean/{tick}/{year}.csv', 'w') as out:\n",
        "            out.write(all_narratives)"
      ],
      "metadata": {
        "colab": {
          "base_uri": "https://localhost:8080/",
          "height": 468
        },
        "id": "n_vBz9-gymoY",
        "outputId": "5bc3a367-9a15-44b5-a309-96da28cefed4"
      },
      "execution_count": null,
      "outputs": [
        {
          "output_type": "stream",
          "name": "stdout",
          "text": [
            "==========================\n",
            "AAPL\n",
            "Year: 2023\n",
            "Year: 2022\n",
            "Year: 2021\n"
          ]
        },
        {
          "output_type": "error",
          "ename": "KeyboardInterrupt",
          "evalue": "",
          "traceback": [
            "\u001b[0;31m---------------------------------------------------------------------------\u001b[0m",
            "\u001b[0;31mKeyboardInterrupt\u001b[0m                         Traceback (most recent call last)",
            "\u001b[0;32m<ipython-input-25-cd56585ca389>\u001b[0m in \u001b[0;36m<cell line: 168>\u001b[0;34m()\u001b[0m\n\u001b[1;32m    179\u001b[0m             \u001b[0mout\u001b[0m\u001b[0;34m.\u001b[0m\u001b[0mwrite\u001b[0m\u001b[0;34m(\u001b[0m\u001b[0mfiling_text\u001b[0m\u001b[0;34m)\u001b[0m\u001b[0;34m\u001b[0m\u001b[0;34m\u001b[0m\u001b[0m\n\u001b[1;32m    180\u001b[0m \u001b[0;34m\u001b[0m\u001b[0m\n\u001b[0;32m--> 181\u001b[0;31m         \u001b[0mall_narratives\u001b[0m \u001b[0;34m=\u001b[0m \u001b[0mpipeline_api\u001b[0m\u001b[0;34m(\u001b[0m\u001b[0mfiling_text\u001b[0m\u001b[0;34m,\u001b[0m \u001b[0mresponse_type\u001b[0m\u001b[0;34m=\u001b[0m\u001b[0;34m\"text/csv\"\u001b[0m\u001b[0;34m,\u001b[0m \u001b[0mm_section\u001b[0m\u001b[0;34m=\u001b[0m\u001b[0;34m[\u001b[0m\u001b[0;34m\"_ALL\"\u001b[0m\u001b[0;34m]\u001b[0m\u001b[0;34m)\u001b[0m\u001b[0;34m\u001b[0m\u001b[0;34m\u001b[0m\u001b[0m\n\u001b[0m\u001b[1;32m    182\u001b[0m \u001b[0;34m\u001b[0m\u001b[0m\n\u001b[1;32m    183\u001b[0m         \u001b[0;32mif\u001b[0m \u001b[0;32mnot\u001b[0m \u001b[0mos\u001b[0m\u001b[0;34m.\u001b[0m\u001b[0mpath\u001b[0m\u001b[0;34m.\u001b[0m\u001b[0mexists\u001b[0m\u001b[0;34m(\u001b[0m\u001b[0;34mf'clean/{tick}'\u001b[0m\u001b[0;34m)\u001b[0m\u001b[0;34m:\u001b[0m\u001b[0;34m\u001b[0m\u001b[0;34m\u001b[0m\u001b[0m\n",
            "\u001b[0;32m<ipython-input-25-cd56585ca389>\u001b[0m in \u001b[0;36mpipeline_api\u001b[0;34m(text, response_type, response_schema, m_section, m_section_regex)\u001b[0m\n\u001b[1;32m     89\u001b[0m             \u001b[0mm_section\u001b[0m \u001b[0;34m=\u001b[0m \u001b[0;34m[\u001b[0m\u001b[0menum\u001b[0m\u001b[0;34m.\u001b[0m\u001b[0mname\u001b[0m \u001b[0;32mfor\u001b[0m \u001b[0menum\u001b[0m \u001b[0;32min\u001b[0m \u001b[0mSECTIONS_S1\u001b[0m\u001b[0;34m]\u001b[0m\u001b[0;34m\u001b[0m\u001b[0;34m\u001b[0m\u001b[0m\n\u001b[1;32m     90\u001b[0m     \u001b[0;32mfor\u001b[0m \u001b[0msection\u001b[0m \u001b[0;32min\u001b[0m \u001b[0mm_section\u001b[0m\u001b[0;34m:\u001b[0m\u001b[0;34m\u001b[0m\u001b[0;34m\u001b[0m\u001b[0m\n\u001b[0;32m---> 91\u001b[0;31m         results[section] = sec_document.get_section_narrative(\n\u001b[0m\u001b[1;32m     92\u001b[0m             \u001b[0msection_string_to_enum\u001b[0m\u001b[0;34m[\u001b[0m\u001b[0msection\u001b[0m\u001b[0;34m]\u001b[0m\u001b[0;34m\u001b[0m\u001b[0;34m\u001b[0m\u001b[0m\n\u001b[1;32m     93\u001b[0m         )\n",
            "\u001b[0;32m/content/pipeline-sec-filings/pipeline-sec-filings/prepline_sec_filings/sec_document.py\u001b[0m in \u001b[0;36mget_section_narrative\u001b[0;34m(self, section)\u001b[0m\n\u001b[1;32m    163\u001b[0m         \u001b[0;31m# usually does not contain any tables and sometimes tables are used for\u001b[0m\u001b[0;34m\u001b[0m\u001b[0;34m\u001b[0m\u001b[0m\n\u001b[1;32m    164\u001b[0m         \u001b[0;31m# title formating\u001b[0m\u001b[0;34m\u001b[0m\u001b[0;34m\u001b[0m\u001b[0m\n\u001b[0;32m--> 165\u001b[0;31m         \u001b[0mtoc\u001b[0m \u001b[0;34m=\u001b[0m \u001b[0mself\u001b[0m\u001b[0;34m.\u001b[0m\u001b[0mget_table_of_contents\u001b[0m\u001b[0;34m(\u001b[0m\u001b[0;34m)\u001b[0m\u001b[0;34m\u001b[0m\u001b[0;34m\u001b[0m\u001b[0m\n\u001b[0m\u001b[1;32m    166\u001b[0m         \u001b[0;32mif\u001b[0m \u001b[0;32mnot\u001b[0m \u001b[0mtoc\u001b[0m\u001b[0;34m.\u001b[0m\u001b[0mpages\u001b[0m\u001b[0;34m:\u001b[0m\u001b[0;34m\u001b[0m\u001b[0;34m\u001b[0m\u001b[0m\n\u001b[1;32m    167\u001b[0m             \u001b[0;32mreturn\u001b[0m \u001b[0mself\u001b[0m\u001b[0;34m.\u001b[0m\u001b[0mget_section_narrative_no_toc\u001b[0m\u001b[0;34m(\u001b[0m\u001b[0msection\u001b[0m\u001b[0;34m)\u001b[0m\u001b[0;34m\u001b[0m\u001b[0;34m\u001b[0m\u001b[0m\n",
            "\u001b[0;32m/content/pipeline-sec-filings/pipeline-sec-filings/prepline_sec_filings/sec_document.py\u001b[0m in \u001b[0;36mget_table_of_contents\u001b[0;34m(self)\u001b[0m\n\u001b[1;32m     88\u001b[0m         \u001b[0mout_cls\u001b[0m \u001b[0;34m=\u001b[0m \u001b[0mself\u001b[0m\u001b[0;34m.\u001b[0m\u001b[0m__class__\u001b[0m\u001b[0;34m\u001b[0m\u001b[0;34m\u001b[0m\u001b[0m\n\u001b[1;32m     89\u001b[0m         \u001b[0m_raise_for_invalid_filing_type\u001b[0m\u001b[0;34m(\u001b[0m\u001b[0mself\u001b[0m\u001b[0;34m.\u001b[0m\u001b[0mfiling_type\u001b[0m\u001b[0;34m)\u001b[0m\u001b[0;34m\u001b[0m\u001b[0;34m\u001b[0m\u001b[0m\n\u001b[0;32m---> 90\u001b[0;31m         \u001b[0mtitle_locs\u001b[0m \u001b[0;34m=\u001b[0m \u001b[0mto_sklearn_format\u001b[0m\u001b[0;34m(\u001b[0m\u001b[0mself\u001b[0m\u001b[0;34m.\u001b[0m\u001b[0melements\u001b[0m\u001b[0;34m)\u001b[0m\u001b[0;34m\u001b[0m\u001b[0;34m\u001b[0m\u001b[0m\n\u001b[0m\u001b[1;32m     91\u001b[0m         \u001b[0;32mif\u001b[0m \u001b[0mlen\u001b[0m\u001b[0;34m(\u001b[0m\u001b[0mtitle_locs\u001b[0m\u001b[0;34m)\u001b[0m \u001b[0;34m==\u001b[0m \u001b[0;36m0\u001b[0m\u001b[0;34m:\u001b[0m\u001b[0;34m\u001b[0m\u001b[0;34m\u001b[0m\u001b[0m\n\u001b[1;32m     92\u001b[0m             \u001b[0;32mreturn\u001b[0m \u001b[0mout_cls\u001b[0m\u001b[0;34m.\u001b[0m\u001b[0mfrom_elements\u001b[0m\u001b[0;34m(\u001b[0m\u001b[0;34m[\u001b[0m\u001b[0;34m]\u001b[0m\u001b[0;34m)\u001b[0m\u001b[0;34m\u001b[0m\u001b[0;34m\u001b[0m\u001b[0m\n",
            "\u001b[0;32m/content/pipeline-sec-filings/pipeline-sec-filings/prepline_sec_filings/sec_document.py\u001b[0m in \u001b[0;36mto_sklearn_format\u001b[0;34m(elements)\u001b[0m\n\u001b[1;32m    338\u001b[0m     \"\"\"\n\u001b[1;32m    339\u001b[0m     is_title: npt.NDArray[np.bool_] = np.array(\n\u001b[0;32m--> 340\u001b[0;31m         \u001b[0;34m[\u001b[0m\u001b[0mis_possible_title\u001b[0m\u001b[0;34m(\u001b[0m\u001b[0mel\u001b[0m\u001b[0;34m.\u001b[0m\u001b[0mtext\u001b[0m\u001b[0;34m)\u001b[0m \u001b[0;32mfor\u001b[0m \u001b[0mel\u001b[0m \u001b[0;32min\u001b[0m \u001b[0melements\u001b[0m\u001b[0;34m]\u001b[0m\u001b[0;34m[\u001b[0m\u001b[0;34m:\u001b[0m \u001b[0mlen\u001b[0m\u001b[0;34m(\u001b[0m\u001b[0melements\u001b[0m\u001b[0;34m)\u001b[0m\u001b[0;34m]\u001b[0m\u001b[0;34m,\u001b[0m \u001b[0mdtype\u001b[0m\u001b[0;34m=\u001b[0m\u001b[0mbool\u001b[0m\u001b[0;34m\u001b[0m\u001b[0;34m\u001b[0m\u001b[0m\n\u001b[0m\u001b[1;32m    341\u001b[0m     )\n\u001b[1;32m    342\u001b[0m     \u001b[0mtitle_locs\u001b[0m \u001b[0;34m=\u001b[0m \u001b[0mnp\u001b[0m\u001b[0;34m.\u001b[0m\u001b[0marange\u001b[0m\u001b[0;34m(\u001b[0m\u001b[0mlen\u001b[0m\u001b[0;34m(\u001b[0m\u001b[0mis_title\u001b[0m\u001b[0;34m)\u001b[0m\u001b[0;34m)\u001b[0m\u001b[0;34m.\u001b[0m\u001b[0mastype\u001b[0m\u001b[0;34m(\u001b[0m\u001b[0mnp\u001b[0m\u001b[0;34m.\u001b[0m\u001b[0mfloat32\u001b[0m\u001b[0;34m)\u001b[0m\u001b[0;34m[\u001b[0m\u001b[0mis_title\u001b[0m\u001b[0;34m]\u001b[0m\u001b[0;34m.\u001b[0m\u001b[0mreshape\u001b[0m\u001b[0;34m(\u001b[0m\u001b[0;34m-\u001b[0m\u001b[0;36m1\u001b[0m\u001b[0;34m,\u001b[0m \u001b[0;36m1\u001b[0m\u001b[0;34m)\u001b[0m\u001b[0;34m\u001b[0m\u001b[0;34m\u001b[0m\u001b[0m\n",
            "\u001b[0;32m/content/pipeline-sec-filings/pipeline-sec-filings/prepline_sec_filings/sec_document.py\u001b[0m in \u001b[0;36m<listcomp>\u001b[0;34m(.0)\u001b[0m\n\u001b[1;32m    338\u001b[0m     \"\"\"\n\u001b[1;32m    339\u001b[0m     is_title: npt.NDArray[np.bool_] = np.array(\n\u001b[0;32m--> 340\u001b[0;31m         \u001b[0;34m[\u001b[0m\u001b[0mis_possible_title\u001b[0m\u001b[0;34m(\u001b[0m\u001b[0mel\u001b[0m\u001b[0;34m.\u001b[0m\u001b[0mtext\u001b[0m\u001b[0;34m)\u001b[0m \u001b[0;32mfor\u001b[0m \u001b[0mel\u001b[0m \u001b[0;32min\u001b[0m \u001b[0melements\u001b[0m\u001b[0;34m]\u001b[0m\u001b[0;34m[\u001b[0m\u001b[0;34m:\u001b[0m \u001b[0mlen\u001b[0m\u001b[0;34m(\u001b[0m\u001b[0melements\u001b[0m\u001b[0;34m)\u001b[0m\u001b[0;34m]\u001b[0m\u001b[0;34m,\u001b[0m \u001b[0mdtype\u001b[0m\u001b[0;34m=\u001b[0m\u001b[0mbool\u001b[0m\u001b[0;34m\u001b[0m\u001b[0;34m\u001b[0m\u001b[0m\n\u001b[0m\u001b[1;32m    341\u001b[0m     )\n\u001b[1;32m    342\u001b[0m     \u001b[0mtitle_locs\u001b[0m \u001b[0;34m=\u001b[0m \u001b[0mnp\u001b[0m\u001b[0;34m.\u001b[0m\u001b[0marange\u001b[0m\u001b[0;34m(\u001b[0m\u001b[0mlen\u001b[0m\u001b[0;34m(\u001b[0m\u001b[0mis_title\u001b[0m\u001b[0;34m)\u001b[0m\u001b[0;34m)\u001b[0m\u001b[0;34m.\u001b[0m\u001b[0mastype\u001b[0m\u001b[0;34m(\u001b[0m\u001b[0mnp\u001b[0m\u001b[0;34m.\u001b[0m\u001b[0mfloat32\u001b[0m\u001b[0;34m)\u001b[0m\u001b[0;34m[\u001b[0m\u001b[0mis_title\u001b[0m\u001b[0;34m]\u001b[0m\u001b[0;34m.\u001b[0m\u001b[0mreshape\u001b[0m\u001b[0;34m(\u001b[0m\u001b[0;34m-\u001b[0m\u001b[0;36m1\u001b[0m\u001b[0;34m,\u001b[0m \u001b[0;36m1\u001b[0m\u001b[0;34m)\u001b[0m\u001b[0;34m\u001b[0m\u001b[0;34m\u001b[0m\u001b[0m\n",
            "\u001b[0;32m/usr/local/lib/python3.10/dist-packages/unstructured/partition/text_type.py\u001b[0m in \u001b[0;36mis_possible_title\u001b[0;34m(text, sentence_min_length, title_max_word_length, non_alpha_threshold, language)\u001b[0m\n\u001b[1;32m    119\u001b[0m         \u001b[0;32mreturn\u001b[0m \u001b[0;32mFalse\u001b[0m\u001b[0;34m\u001b[0m\u001b[0;34m\u001b[0m\u001b[0m\n\u001b[1;32m    120\u001b[0m \u001b[0;34m\u001b[0m\u001b[0m\n\u001b[0;32m--> 121\u001b[0;31m     \u001b[0;32mif\u001b[0m \u001b[0mlanguage\u001b[0m \u001b[0;34m==\u001b[0m \u001b[0;34m\"en\"\u001b[0m \u001b[0;32mand\u001b[0m \u001b[0;32mnot\u001b[0m \u001b[0mcontains_english_word\u001b[0m\u001b[0;34m(\u001b[0m\u001b[0mtext\u001b[0m\u001b[0;34m)\u001b[0m\u001b[0;34m:\u001b[0m\u001b[0;34m\u001b[0m\u001b[0;34m\u001b[0m\u001b[0m\n\u001b[0m\u001b[1;32m    122\u001b[0m         \u001b[0;32mreturn\u001b[0m \u001b[0;32mFalse\u001b[0m\u001b[0;34m\u001b[0m\u001b[0;34m\u001b[0m\u001b[0m\n\u001b[1;32m    123\u001b[0m \u001b[0;34m\u001b[0m\u001b[0m\n",
            "\u001b[0;31mKeyboardInterrupt\u001b[0m: "
          ]
        }
      ]
    },
    {
      "cell_type": "code",
      "source": [],
      "metadata": {
        "id": "C3ZnaRwi0WiE"
      },
      "execution_count": null,
      "outputs": []
    },
    {
      "cell_type": "code",
      "source": [
        "from prepline_sec_filings.sections import section_string_to_enum, validate_section_names, SECSection\n",
        "from prepline_sec_filings.sec_document import SECDocument, REPORT_TYPES, VALID_FILING_TYPES\n",
        "from prepline_sec_filings.fetch import *\n",
        "import pandas as pd"
      ],
      "metadata": {
        "id": "QO82VI6p_R45"
      },
      "execution_count": null,
      "outputs": []
    },
    {
      "cell_type": "code",
      "source": [
        "SECTIONS_10K = (\n",
        "    SECSection.BUSINESS,  # ITEM 1\n",
        "    SECSection.RISK_FACTORS,  # ITEM 1A\n",
        "    SECSection.UNRESOLVED_STAFF_COMMENTS,  # ITEM 1B\n",
        "    SECSection.PROPERTIES,  # ITEM 2\n",
        "    SECSection.LEGAL_PROCEEDINGS,  # ITEM 3\n",
        "    SECSection.MINE_SAFETY,  # ITEM 4\n",
        "    SECSection.MARKET_FOR_REGISTRANT_COMMON_EQUITY,  # ITEM 5\n",
        "    # NOTE(robinson) - ITEM 6 is \"RESERVED\"\n",
        "    SECSection.MANAGEMENT_DISCUSSION,  # ITEM 7\n",
        "    SECSection.MARKET_RISK_DISCLOSURES,  # ITEM 7A\n",
        "    SECSection.FINANCIAL_STATEMENTS,  # ITEM 8\n",
        "    SECSection.ACCOUNTING_DISAGREEMENTS,  # ITEM 9\n",
        "    SECSection.CONTROLS_AND_PROCEDURES,  # ITEM 9A\n",
        "    # NOTE(robinson) - ITEM 9B is other information\n",
        "    SECSection.FOREIGN_JURISDICTIONS,  # ITEM 9C\n",
        "    SECSection.MANAGEMENT,  # ITEM 10\n",
        "    SECSection.COMPENSATION,  # ITEM 11\n",
        "    SECSection.PRINCIPAL_STOCKHOLDERS,  # ITEM 12\n",
        "    SECSection.RELATED_PARTY_TRANSACTIONS,  # ITEM 13\n",
        "    SECSection.ACCOUNTING_FEES,  # ITEM 14\n",
        "    SECSection.EXHIBITS,  # ITEM 15\n",
        "    SECSection.FORM_SUMMARY,  # ITEM 16\n",
        ")"
      ],
      "metadata": {
        "id": "-AJUAqUqAcHt"
      },
      "execution_count": null,
      "outputs": []
    },
    {
      "cell_type": "code",
      "source": [
        "def get_all_section_text(text):\n",
        "  \"\"\"\n",
        "  text: text as string type\n",
        "  returns:\n",
        "    Pandas dataframe\n",
        "    columns: Title, Text\n",
        "  \"\"\"\n",
        "  df = pd.DataFrame(columns=['Title', 'Text'])\n",
        "  sec_document = SECDocument.from_string(text)\n",
        "\n",
        "  for sec in SECTIONS_10K:\n",
        "    section_title = str(sec).split(\".\")[1]\n",
        "    #print(section_title)\n",
        "\n",
        "    for sec in SECTIONS_10K:\n",
        "      narrative = sec_document.get_section_narrative(sec)\n",
        "\n",
        "      for element in narrative:\n",
        "        #print(element)\n",
        "\n",
        "        new_row = {\n",
        "        'Title': section_title,\n",
        "        'Text': str(element)\n",
        "            }\n",
        "        df = pd.concat([df, pd.DataFrame([new_row])], ignore_index=True)\n",
        "  return df"
      ],
      "metadata": {
        "id": "3qLVIlvHHWat"
      },
      "execution_count": null,
      "outputs": []
    },
    {
      "cell_type": "code",
      "source": [
        "%%time\n",
        "\n",
        "df = get_all_section_text(text)"
      ],
      "metadata": {
        "colab": {
          "base_uri": "https://localhost:8080/",
          "height": 415
        },
        "id": "javTX3eOILa5",
        "outputId": "d698fca0-1076-430b-b3b3-ab7d56b0ffe9"
      },
      "execution_count": null,
      "outputs": [
        {
          "output_type": "error",
          "ename": "KeyboardInterrupt",
          "evalue": "",
          "traceback": [
            "\u001b[0;31m---------------------------------------------------------------------------\u001b[0m",
            "\u001b[0;31mKeyboardInterrupt\u001b[0m                         Traceback (most recent call last)",
            "\u001b[0;32m<timed exec>\u001b[0m in \u001b[0;36m<module>\u001b[0;34m\u001b[0m\n",
            "\u001b[0;32m<ipython-input-36-6fbf7197591d>\u001b[0m in \u001b[0;36mget_all_section_text\u001b[0;34m(text)\u001b[0m\n\u001b[1;32m     14\u001b[0m \u001b[0;34m\u001b[0m\u001b[0m\n\u001b[1;32m     15\u001b[0m     \u001b[0;32mfor\u001b[0m \u001b[0msec\u001b[0m \u001b[0;32min\u001b[0m \u001b[0mSECTIONS_10K\u001b[0m\u001b[0;34m:\u001b[0m\u001b[0;34m\u001b[0m\u001b[0;34m\u001b[0m\u001b[0m\n\u001b[0;32m---> 16\u001b[0;31m       \u001b[0mnarrative\u001b[0m \u001b[0;34m=\u001b[0m \u001b[0msec_document\u001b[0m\u001b[0;34m.\u001b[0m\u001b[0mget_section_narrative\u001b[0m\u001b[0;34m(\u001b[0m\u001b[0msec\u001b[0m\u001b[0;34m)\u001b[0m\u001b[0;34m\u001b[0m\u001b[0;34m\u001b[0m\u001b[0m\n\u001b[0m\u001b[1;32m     17\u001b[0m \u001b[0;34m\u001b[0m\u001b[0m\n\u001b[1;32m     18\u001b[0m       \u001b[0;32mfor\u001b[0m \u001b[0melement\u001b[0m \u001b[0;32min\u001b[0m \u001b[0mnarrative\u001b[0m\u001b[0;34m:\u001b[0m\u001b[0;34m\u001b[0m\u001b[0;34m\u001b[0m\u001b[0m\n",
            "\u001b[0;32m/content/pipeline-sec-filings/prepline_sec_filings/sec_document.py\u001b[0m in \u001b[0;36mget_section_narrative\u001b[0;34m(self, section)\u001b[0m\n\u001b[1;32m    163\u001b[0m         \u001b[0;31m# usually does not contain any tables and sometimes tables are used for\u001b[0m\u001b[0;34m\u001b[0m\u001b[0;34m\u001b[0m\u001b[0m\n\u001b[1;32m    164\u001b[0m         \u001b[0;31m# title formating\u001b[0m\u001b[0;34m\u001b[0m\u001b[0;34m\u001b[0m\u001b[0m\n\u001b[0;32m--> 165\u001b[0;31m         \u001b[0mtoc\u001b[0m \u001b[0;34m=\u001b[0m \u001b[0mself\u001b[0m\u001b[0;34m.\u001b[0m\u001b[0mget_table_of_contents\u001b[0m\u001b[0;34m(\u001b[0m\u001b[0;34m)\u001b[0m\u001b[0;34m\u001b[0m\u001b[0;34m\u001b[0m\u001b[0m\n\u001b[0m\u001b[1;32m    166\u001b[0m         \u001b[0;32mif\u001b[0m \u001b[0;32mnot\u001b[0m \u001b[0mtoc\u001b[0m\u001b[0;34m.\u001b[0m\u001b[0mpages\u001b[0m\u001b[0;34m:\u001b[0m\u001b[0;34m\u001b[0m\u001b[0;34m\u001b[0m\u001b[0m\n\u001b[1;32m    167\u001b[0m             \u001b[0;32mreturn\u001b[0m \u001b[0mself\u001b[0m\u001b[0;34m.\u001b[0m\u001b[0mget_section_narrative_no_toc\u001b[0m\u001b[0;34m(\u001b[0m\u001b[0msection\u001b[0m\u001b[0;34m)\u001b[0m\u001b[0;34m\u001b[0m\u001b[0;34m\u001b[0m\u001b[0m\n",
            "\u001b[0;32m/content/pipeline-sec-filings/prepline_sec_filings/sec_document.py\u001b[0m in \u001b[0;36mget_table_of_contents\u001b[0;34m(self)\u001b[0m\n\u001b[1;32m     88\u001b[0m         \u001b[0mout_cls\u001b[0m \u001b[0;34m=\u001b[0m \u001b[0mself\u001b[0m\u001b[0;34m.\u001b[0m\u001b[0m__class__\u001b[0m\u001b[0;34m\u001b[0m\u001b[0;34m\u001b[0m\u001b[0m\n\u001b[1;32m     89\u001b[0m         \u001b[0m_raise_for_invalid_filing_type\u001b[0m\u001b[0;34m(\u001b[0m\u001b[0mself\u001b[0m\u001b[0;34m.\u001b[0m\u001b[0mfiling_type\u001b[0m\u001b[0;34m)\u001b[0m\u001b[0;34m\u001b[0m\u001b[0;34m\u001b[0m\u001b[0m\n\u001b[0;32m---> 90\u001b[0;31m         \u001b[0mtitle_locs\u001b[0m \u001b[0;34m=\u001b[0m \u001b[0mto_sklearn_format\u001b[0m\u001b[0;34m(\u001b[0m\u001b[0mself\u001b[0m\u001b[0;34m.\u001b[0m\u001b[0melements\u001b[0m\u001b[0;34m)\u001b[0m\u001b[0;34m\u001b[0m\u001b[0;34m\u001b[0m\u001b[0m\n\u001b[0m\u001b[1;32m     91\u001b[0m         \u001b[0;32mif\u001b[0m \u001b[0mlen\u001b[0m\u001b[0;34m(\u001b[0m\u001b[0mtitle_locs\u001b[0m\u001b[0;34m)\u001b[0m \u001b[0;34m==\u001b[0m \u001b[0;36m0\u001b[0m\u001b[0;34m:\u001b[0m\u001b[0;34m\u001b[0m\u001b[0;34m\u001b[0m\u001b[0m\n\u001b[1;32m     92\u001b[0m             \u001b[0;32mreturn\u001b[0m \u001b[0mout_cls\u001b[0m\u001b[0;34m.\u001b[0m\u001b[0mfrom_elements\u001b[0m\u001b[0;34m(\u001b[0m\u001b[0;34m[\u001b[0m\u001b[0;34m]\u001b[0m\u001b[0;34m)\u001b[0m\u001b[0;34m\u001b[0m\u001b[0;34m\u001b[0m\u001b[0m\n",
            "\u001b[0;32m/content/pipeline-sec-filings/prepline_sec_filings/sec_document.py\u001b[0m in \u001b[0;36mto_sklearn_format\u001b[0;34m(elements)\u001b[0m\n\u001b[1;32m    338\u001b[0m     \"\"\"\n\u001b[1;32m    339\u001b[0m     is_title: npt.NDArray[np.bool_] = np.array(\n\u001b[0;32m--> 340\u001b[0;31m         \u001b[0;34m[\u001b[0m\u001b[0mis_possible_title\u001b[0m\u001b[0;34m(\u001b[0m\u001b[0mel\u001b[0m\u001b[0;34m.\u001b[0m\u001b[0mtext\u001b[0m\u001b[0;34m)\u001b[0m \u001b[0;32mfor\u001b[0m \u001b[0mel\u001b[0m \u001b[0;32min\u001b[0m \u001b[0melements\u001b[0m\u001b[0;34m]\u001b[0m\u001b[0;34m[\u001b[0m\u001b[0;34m:\u001b[0m \u001b[0mlen\u001b[0m\u001b[0;34m(\u001b[0m\u001b[0melements\u001b[0m\u001b[0;34m)\u001b[0m\u001b[0;34m]\u001b[0m\u001b[0;34m,\u001b[0m \u001b[0mdtype\u001b[0m\u001b[0;34m=\u001b[0m\u001b[0mbool\u001b[0m\u001b[0;34m\u001b[0m\u001b[0;34m\u001b[0m\u001b[0m\n\u001b[0m\u001b[1;32m    341\u001b[0m     )\n\u001b[1;32m    342\u001b[0m     \u001b[0mtitle_locs\u001b[0m \u001b[0;34m=\u001b[0m \u001b[0mnp\u001b[0m\u001b[0;34m.\u001b[0m\u001b[0marange\u001b[0m\u001b[0;34m(\u001b[0m\u001b[0mlen\u001b[0m\u001b[0;34m(\u001b[0m\u001b[0mis_title\u001b[0m\u001b[0;34m)\u001b[0m\u001b[0;34m)\u001b[0m\u001b[0;34m.\u001b[0m\u001b[0mastype\u001b[0m\u001b[0;34m(\u001b[0m\u001b[0mnp\u001b[0m\u001b[0;34m.\u001b[0m\u001b[0mfloat32\u001b[0m\u001b[0;34m)\u001b[0m\u001b[0;34m[\u001b[0m\u001b[0mis_title\u001b[0m\u001b[0;34m]\u001b[0m\u001b[0;34m.\u001b[0m\u001b[0mreshape\u001b[0m\u001b[0;34m(\u001b[0m\u001b[0;34m-\u001b[0m\u001b[0;36m1\u001b[0m\u001b[0;34m,\u001b[0m \u001b[0;36m1\u001b[0m\u001b[0;34m)\u001b[0m\u001b[0;34m\u001b[0m\u001b[0;34m\u001b[0m\u001b[0m\n",
            "\u001b[0;32m/content/pipeline-sec-filings/prepline_sec_filings/sec_document.py\u001b[0m in \u001b[0;36m<listcomp>\u001b[0;34m(.0)\u001b[0m\n\u001b[1;32m    338\u001b[0m     \"\"\"\n\u001b[1;32m    339\u001b[0m     is_title: npt.NDArray[np.bool_] = np.array(\n\u001b[0;32m--> 340\u001b[0;31m         \u001b[0;34m[\u001b[0m\u001b[0mis_possible_title\u001b[0m\u001b[0;34m(\u001b[0m\u001b[0mel\u001b[0m\u001b[0;34m.\u001b[0m\u001b[0mtext\u001b[0m\u001b[0;34m)\u001b[0m \u001b[0;32mfor\u001b[0m \u001b[0mel\u001b[0m \u001b[0;32min\u001b[0m \u001b[0melements\u001b[0m\u001b[0;34m]\u001b[0m\u001b[0;34m[\u001b[0m\u001b[0;34m:\u001b[0m \u001b[0mlen\u001b[0m\u001b[0;34m(\u001b[0m\u001b[0melements\u001b[0m\u001b[0;34m)\u001b[0m\u001b[0;34m]\u001b[0m\u001b[0;34m,\u001b[0m \u001b[0mdtype\u001b[0m\u001b[0;34m=\u001b[0m\u001b[0mbool\u001b[0m\u001b[0;34m\u001b[0m\u001b[0;34m\u001b[0m\u001b[0m\n\u001b[0m\u001b[1;32m    341\u001b[0m     )\n\u001b[1;32m    342\u001b[0m     \u001b[0mtitle_locs\u001b[0m \u001b[0;34m=\u001b[0m \u001b[0mnp\u001b[0m\u001b[0;34m.\u001b[0m\u001b[0marange\u001b[0m\u001b[0;34m(\u001b[0m\u001b[0mlen\u001b[0m\u001b[0;34m(\u001b[0m\u001b[0mis_title\u001b[0m\u001b[0;34m)\u001b[0m\u001b[0;34m)\u001b[0m\u001b[0;34m.\u001b[0m\u001b[0mastype\u001b[0m\u001b[0;34m(\u001b[0m\u001b[0mnp\u001b[0m\u001b[0;34m.\u001b[0m\u001b[0mfloat32\u001b[0m\u001b[0;34m)\u001b[0m\u001b[0;34m[\u001b[0m\u001b[0mis_title\u001b[0m\u001b[0;34m]\u001b[0m\u001b[0;34m.\u001b[0m\u001b[0mreshape\u001b[0m\u001b[0;34m(\u001b[0m\u001b[0;34m-\u001b[0m\u001b[0;36m1\u001b[0m\u001b[0;34m,\u001b[0m \u001b[0;36m1\u001b[0m\u001b[0;34m)\u001b[0m\u001b[0;34m\u001b[0m\u001b[0;34m\u001b[0m\u001b[0m\n",
            "\u001b[0;32m/usr/local/lib/python3.10/dist-packages/unstructured/partition/text_type.py\u001b[0m in \u001b[0;36mis_possible_title\u001b[0;34m(text, sentence_min_length, title_max_word_length, non_alpha_threshold, language)\u001b[0m\n\u001b[1;32m    119\u001b[0m         \u001b[0;32mreturn\u001b[0m \u001b[0;32mFalse\u001b[0m\u001b[0;34m\u001b[0m\u001b[0;34m\u001b[0m\u001b[0m\n\u001b[1;32m    120\u001b[0m \u001b[0;34m\u001b[0m\u001b[0m\n\u001b[0;32m--> 121\u001b[0;31m     \u001b[0;32mif\u001b[0m \u001b[0mlanguage\u001b[0m \u001b[0;34m==\u001b[0m \u001b[0;34m\"en\"\u001b[0m \u001b[0;32mand\u001b[0m \u001b[0;32mnot\u001b[0m \u001b[0mcontains_english_word\u001b[0m\u001b[0;34m(\u001b[0m\u001b[0mtext\u001b[0m\u001b[0;34m)\u001b[0m\u001b[0;34m:\u001b[0m\u001b[0;34m\u001b[0m\u001b[0;34m\u001b[0m\u001b[0m\n\u001b[0m\u001b[1;32m    122\u001b[0m         \u001b[0;32mreturn\u001b[0m \u001b[0;32mFalse\u001b[0m\u001b[0;34m\u001b[0m\u001b[0;34m\u001b[0m\u001b[0m\n\u001b[1;32m    123\u001b[0m \u001b[0;34m\u001b[0m\u001b[0m\n",
            "\u001b[0;31mKeyboardInterrupt\u001b[0m: "
          ]
        }
      ]
    },
    {
      "cell_type": "code",
      "source": [],
      "metadata": {
        "id": "mDQrND7dPTON"
      },
      "execution_count": null,
      "outputs": []
    },
    {
      "cell_type": "code",
      "source": [
        "sec_document = SECDocument.from_string(text)"
      ],
      "metadata": {
        "id": "1FoREa-Z_yEQ"
      },
      "execution_count": null,
      "outputs": []
    },
    {
      "cell_type": "code",
      "source": [
        "# Install pipeline-sec-filings\n",
        "!git clone https://github.com/Unstructured-IO/pipeline-sec-filings.git --depth=1\n",
        "%cd pipeline-sec-filings"
      ],
      "metadata": {
        "colab": {
          "base_uri": "https://localhost:8080/"
        },
        "id": "ecHt84FhP1OE",
        "outputId": "a8f797d9-0473-44da-c20f-07340bbb1262"
      },
      "execution_count": null,
      "outputs": [
        {
          "output_type": "stream",
          "name": "stdout",
          "text": [
            "Cloning into 'pipeline-sec-filings'...\n",
            "remote: Enumerating objects: 69, done.\u001b[K\n",
            "remote: Counting objects: 100% (69/69), done.\u001b[K\n",
            "remote: Compressing objects: 100% (63/63), done.\u001b[K\n",
            "remote: Total 69 (delta 2), reused 43 (delta 1), pack-reused 0\u001b[K\n",
            "Receiving objects: 100% (69/69), 216.03 KiB | 3.38 MiB/s, done.\n",
            "Resolving deltas: 100% (2/2), done.\n",
            "/content/pipeline-sec-filings\n"
          ]
        }
      ]
    },
    {
      "cell_type": "code",
      "source": [
        "# Install Python requirements\n",
        "!pip install -q ratelimit unstructured==0.4.6\n",
        "# upgrade to the latest, though has not been tested\n",
        "# !pip install -q --upgrade ratelimit unstructured"
      ],
      "metadata": {
        "colab": {
          "base_uri": "https://localhost:8080/"
        },
        "id": "XJQXbWQRP0BT",
        "outputId": "93c3ba59-6d48-4e63-8ac5-d5af9afb83e5"
      },
      "execution_count": null,
      "outputs": [
        {
          "output_type": "stream",
          "name": "stdout",
          "text": [
            "  Preparing metadata (setup.py) ... \u001b[?25l\u001b[?25hdone\n",
            "\u001b[2K     \u001b[90m━━━━━━━━━━━━━━━━━━━━━━━━━━━━━━━━━━━━━━━━\u001b[0m \u001b[32m1.3/1.3 MB\u001b[0m \u001b[31m5.5 MB/s\u001b[0m eta \u001b[36m0:00:00\u001b[0m\n",
            "\u001b[?25h  Preparing metadata (setup.py) ... \u001b[?25l\u001b[?25hdone\n",
            "\u001b[2K     \u001b[90m━━━━━━━━━━━━━━━━━━━━━━━━━━━━━━━━━━━━━━━━\u001b[0m \u001b[32m420.8/420.8 kB\u001b[0m \u001b[31m17.2 MB/s\u001b[0m eta \u001b[36m0:00:00\u001b[0m\n",
            "\u001b[2K     \u001b[90m━━━━━━━━━━━━━━━━━━━━━━━━━━━━━━━━━━━━━━━━\u001b[0m \u001b[32m239.6/239.6 kB\u001b[0m \u001b[31m15.0 MB/s\u001b[0m eta \u001b[36m0:00:00\u001b[0m\n",
            "\u001b[2K     \u001b[90m━━━━━━━━━━━━━━━━━━━━━━━━━━━━━━━━━━━━━━━━\u001b[0m \u001b[32m471.6/471.6 kB\u001b[0m \u001b[31m23.9 MB/s\u001b[0m eta \u001b[36m0:00:00\u001b[0m\n",
            "\u001b[2K     \u001b[90m━━━━━━━━━━━━━━━━━━━━━━━━━━━━━━━━━━━━━━━━\u001b[0m \u001b[32m75.9/75.9 kB\u001b[0m \u001b[31m3.8 MB/s\u001b[0m eta \u001b[36m0:00:00\u001b[0m\n",
            "\u001b[2K     \u001b[90m━━━━━━━━━━━━━━━━━━━━━━━━━━━━━━━━━━━━━━━━\u001b[0m \u001b[32m17.1/17.1 MB\u001b[0m \u001b[31m24.1 MB/s\u001b[0m eta \u001b[36m0:00:00\u001b[0m\n",
            "\u001b[2K     \u001b[90m━━━━━━━━━━━━━━━━━━━━━━━━━━━━━━━━━━━━━━━━\u001b[0m \u001b[32m159.9/159.9 kB\u001b[0m \u001b[31m7.1 MB/s\u001b[0m eta \u001b[36m0:00:00\u001b[0m\n",
            "\u001b[2K     \u001b[90m━━━━━━━━━━━━━━━━━━━━━━━━━━━━━━━━━━━━━━━━\u001b[0m \u001b[32m77.9/77.9 kB\u001b[0m \u001b[31m4.7 MB/s\u001b[0m eta \u001b[36m0:00:00\u001b[0m\n",
            "\u001b[2K     \u001b[90m━━━━━━━━━━━━━━━━━━━━━━━━━━━━━━━━━━━━━━━━\u001b[0m \u001b[32m58.3/58.3 kB\u001b[0m \u001b[31m4.5 MB/s\u001b[0m eta \u001b[36m0:00:00\u001b[0m\n",
            "\u001b[?25h  Building wheel for unstructured (setup.py) ... \u001b[?25l\u001b[?25hdone\n",
            "  Building wheel for ratelimit (setup.py) ... \u001b[?25l\u001b[?25hdone\n",
            "\u001b[31mERROR: pip's dependency resolver does not currently take into account all the packages that are installed. This behaviour is the source of the following dependency conflicts.\n",
            "chex 0.1.86 requires numpy>=1.24.1, but you have numpy 1.23.5 which is incompatible.\n",
            "pandas-stubs 2.0.3.230814 requires numpy>=1.25.0; python_version >= \"3.9\", but you have numpy 1.23.5 which is incompatible.\u001b[0m\u001b[31m\n",
            "\u001b[0m"
          ]
        }
      ]
    },
    {
      "cell_type": "code",
      "source": [
        "import nltk\n",
        "nltk.download('punkt')\n",
        "nltk.download('averaged_perceptron_tagger')"
      ],
      "metadata": {
        "colab": {
          "base_uri": "https://localhost:8080/"
        },
        "id": "yU082QZkQYaV",
        "outputId": "487ca15e-b600-4000-f079-ff264f80f182"
      },
      "execution_count": null,
      "outputs": [
        {
          "output_type": "stream",
          "name": "stderr",
          "text": [
            "[nltk_data] Downloading package punkt to /root/nltk_data...\n",
            "[nltk_data]   Unzipping tokenizers/punkt.zip.\n",
            "[nltk_data] Downloading package averaged_perceptron_tagger to\n",
            "[nltk_data]     /root/nltk_data...\n",
            "[nltk_data]   Unzipping taggers/averaged_perceptron_tagger.zip.\n"
          ]
        },
        {
          "output_type": "execute_result",
          "data": {
            "text/plain": [
              "True"
            ]
          },
          "metadata": {},
          "execution_count": 3
        }
      ]
    },
    {
      "cell_type": "code",
      "source": [
        "# pipeline-api\n",
        "from enum import Enum\n",
        "import re\n",
        "import signal\n",
        "\n",
        "from unstructured.staging.base import convert_to_isd\n",
        "from prepline_sec_filings.sections import (\n",
        "    ALL_SECTIONS,\n",
        "    SECTIONS_10K\n",
        ")\n",
        "from prepline_sec_filings.sections import section_string_to_enum, validate_section_names, SECSection\n",
        "from prepline_sec_filings.sec_document import SECDocument, REPORT_TYPES, VALID_FILING_TYPES\n",
        "from prepline_sec_filings.fetch import *\n",
        "\n",
        "import io"
      ],
      "metadata": {
        "id": "QRINywqkPiXD"
      },
      "execution_count": null,
      "outputs": []
    },
    {
      "cell_type": "code",
      "execution_count": null,
      "metadata": {
        "id": "V3YUPkS8cYhM"
      },
      "outputs": [],
      "source": [
        "text = get_form_by_ticker(\n",
        "    'rgld',\n",
        "    '10-K',\n",
        "    company='IITM',\n",
        "    email='21f1001906@ds.study.iitm.ac.in'\n",
        ")"
      ]
    },
    {
      "cell_type": "code",
      "source": [
        "# pipeline-api\n",
        "class timeout:\n",
        "    def __init__(self, seconds=1, error_message='Timeout'):\n",
        "        self.seconds = seconds\n",
        "        self.error_message = error_message\n",
        "    def handle_timeout(self, signum, frame):\n",
        "        raise TimeoutError(self.error_message)\n",
        "    def __enter__(self):\n",
        "        try:\n",
        "            signal.signal(signal.SIGALRM, self.handle_timeout)\n",
        "            signal.alarm(self.seconds)\n",
        "        except ValueError:\n",
        "            pass\n",
        "    def __exit__(self, type, value, traceback):\n",
        "        try:\n",
        "            signal.alarm(0)\n",
        "        except ValueError:\n",
        "            pass"
      ],
      "metadata": {
        "id": "it1gL19NPhD_"
      },
      "execution_count": null,
      "outputs": []
    },
    {
      "cell_type": "code",
      "source": [
        "# pipeline-api\n",
        "def get_regex_enum(section_regex):\n",
        "    class CustomSECSection(Enum):\n",
        "        CUSTOM = re.compile(section_regex)\n",
        "\n",
        "        @property\n",
        "        def pattern(self):\n",
        "            return self.value\n",
        "\n",
        "    return CustomSECSection.CUSTOM"
      ],
      "metadata": {
        "id": "BqtawwgWQEX5"
      },
      "execution_count": null,
      "outputs": []
    },
    {
      "cell_type": "code",
      "source": [
        "# pipeline-api\n",
        "import csv\n",
        "from typing import Dict\n",
        "from unstructured.documents.elements import Text, NarrativeText, Title, ListItem\n",
        "def convert_to_isd_csv(results:dict) -> str:\n",
        "    \"\"\"\n",
        "    Returns the representation of document elements as an Initial Structured Document (ISD)\n",
        "    in CSV Format.\n",
        "    \"\"\"\n",
        "    csv_fieldnames: List[str] = [\"section\", \"element_type\", \"text\"]\n",
        "    new_rows = []\n",
        "    for section, section_narrative in results.items():\n",
        "        rows: List[Dict[str, str]] = convert_to_isd(section_narrative)\n",
        "        for row in rows:\n",
        "            new_row_item = dict()\n",
        "            new_row_item[\"section\"] = section\n",
        "            new_row_item[\"element_type\"] = row[\"type\"]\n",
        "            new_row_item[\"text\"] = row[\"text\"]\n",
        "            new_rows.append(new_row_item)\n",
        "\n",
        "    with io.StringIO() as buffer:\n",
        "        csv_writer = csv.DictWriter(buffer, fieldnames=csv_fieldnames)\n",
        "        csv_writer.writeheader()\n",
        "        csv_writer.writerows(new_rows)\n",
        "        return buffer.getvalue()"
      ],
      "metadata": {
        "id": "6KfuA0s6QENw"
      },
      "execution_count": null,
      "outputs": []
    },
    {
      "cell_type": "code",
      "source": [
        "# pipeline-api\n",
        "from unstructured.staging.label_studio import stage_for_label_studio\n",
        "\n",
        "# List of valid response schemas\n",
        "LABELSTUDIO = \"labelstudio\"\n",
        "ISD = \"isd\"\n",
        "\n",
        "def pipeline_api(text, response_type=\"application/json\", response_schema=\"isd\", m_section=[], m_section_regex=[]):\n",
        "    \"\"\"Many supported sections including: RISK_FACTORS, MANAGEMENT_DISCUSSION, and many more\"\"\"\n",
        "    validate_section_names(m_section)\n",
        "\n",
        "    sec_document = SECDocument.from_string(text)\n",
        "    if sec_document.filing_type not in VALID_FILING_TYPES:\n",
        "        raise ValueError(\n",
        "            f\"SEC document filing type {sec_document.filing_type} is not supported, \"\n",
        "            f\"must be one of {','.join(VALID_FILING_TYPES)}\"\n",
        "        )\n",
        "    results = {}\n",
        "    if m_section == [ALL_SECTIONS]:\n",
        "        filing_type = sec_document.filing_type\n",
        "        if filing_type in REPORT_TYPES:\n",
        "            if filing_type.startswith(\"10-K\"):\n",
        "                m_section = [enum.name for enum in SECTIONS_10K]\n",
        "            elif filing_type.startswith(\"10-Q\"):\n",
        "                m_section = [enum.name for enum in SECTIONS_10Q]\n",
        "            else:\n",
        "                raise ValueError(f\"Invalid report type: {filing_type}\")\n",
        "\n",
        "        else:\n",
        "            m_section = [enum.name for enum in SECTIONS_S1]\n",
        "    for section in m_section:\n",
        "        results[section] = sec_document.get_section_narrative(\n",
        "            section_string_to_enum[section]\n",
        "        )\n",
        "    for i, section_regex in enumerate(m_section_regex):\n",
        "        regex_enum = get_regex_enum(section_regex)\n",
        "        with timeout(seconds=5):\n",
        "            section_elements = sec_document.get_section_narrative(regex_enum)\n",
        "            results[f\"REGEX_{i}\"] = section_elements\n",
        "    if response_type == \"application/json\":\n",
        "        if response_schema == LABELSTUDIO:\n",
        "            return {section:stage_for_label_studio(section_narrative) for section, section_narrative in results.items()}\n",
        "        elif response_schema == ISD:\n",
        "            return {section:convert_to_isd(section_narrative) for section, section_narrative in results.items()}\n",
        "        else:\n",
        "            raise ValueError(f\"output_schema '{response_schema}' is not supported for {response_type}\")\n",
        "    elif response_type == \"text/csv\":\n",
        "        if response_schema != ISD:\n",
        "            raise ValueError(f\"output_schema '{response_schema}' is not supported for {response_type}\")\n",
        "        return convert_to_isd_csv(results)\n",
        "    else:\n",
        "        raise ValueError(f\"response_type '{response_type}' is not supported\")"
      ],
      "metadata": {
        "id": "063UXo47QEEZ"
      },
      "execution_count": null,
      "outputs": []
    },
    {
      "cell_type": "code",
      "source": [
        "risk_narrative = pipeline_api(text, m_section=[\"RISK_FACTORS\"])[\"RISK_FACTORS\"]\n",
        "risk_narrative[:5]"
      ],
      "metadata": {
        "colab": {
          "base_uri": "https://localhost:8080/"
        },
        "id": "HeMCCgPFQD6m",
        "outputId": "44c2a873-1f86-485a-e952-6f4dedc2f5af"
      },
      "execution_count": null,
      "outputs": [
        {
          "output_type": "execute_result",
          "data": {
            "text/plain": [
              "[]"
            ]
          },
          "metadata": {},
          "execution_count": 10
        }
      ]
    },
    {
      "cell_type": "code",
      "source": [
        "all_narratives = pipeline_api(text, m_section=[\"_ALL\"])\n",
        "for section, elems in all_narratives.items():\n",
        "    print(section)\n",
        "    print(elems[:4])\n",
        "    print(\"---------------\")"
      ],
      "metadata": {
        "id": "LAjOWPa9QDwz"
      },
      "execution_count": null,
      "outputs": []
    },
    {
      "cell_type": "code",
      "source": [
        "import time\n",
        "\n",
        "start_time = time.time()"
      ],
      "metadata": {
        "id": "zh0c_E1mTmvh"
      },
      "execution_count": null,
      "outputs": []
    },
    {
      "cell_type": "code",
      "source": [
        "all_narratives = pipeline_api(text, response_type=\"text/csv\", m_section=[\"_ALL\"])\n",
        "\n",
        "with open('all_narratives.csv', 'w') as out:\n",
        "    out.write(all_narratives)"
      ],
      "metadata": {
        "id": "SirwWxfXQDaH"
      },
      "execution_count": null,
      "outputs": []
    },
    {
      "cell_type": "code",
      "source": [
        "end_time = time.time()\n",
        "\n",
        "# Calculate the execution time\n",
        "execution_time = end_time - start_time\n",
        "print(\"Execution time:\", execution_time, \"seconds\")"
      ],
      "metadata": {
        "colab": {
          "base_uri": "https://localhost:8080/"
        },
        "id": "C8HJttoiTyWc",
        "outputId": "bd4df8d3-2d26-435a-c579-9cc1ad58b9df"
      },
      "execution_count": null,
      "outputs": [
        {
          "output_type": "stream",
          "name": "stdout",
          "text": [
            "Execution time: 110.09461545944214 seconds\n"
          ]
        }
      ]
    },
    {
      "cell_type": "code",
      "execution_count": null,
      "metadata": {
        "colab": {
          "base_uri": "https://localhost:8080/"
        },
        "id": "k5EsnP0KAQxq",
        "outputId": "8a2ce41c-4c19-4aaa-fec7-e4692bdf4014"
      },
      "outputs": [
        {
          "output_type": "stream",
          "name": "stdout",
          "text": [
            "LSchema-instance\" xmlns:iso4217=\"http://www.xbrl.org/2003/iso4217\" xmlns:xlink=\"http://www.w3.org/1999/xlink\" xmlns:ixt=\"http://www.xbrl.org/inlineXBRL/transformation/2020-02-12\" xmlns:us-gaap=\"http://fasb.org/us-gaap/2023\" xmlns:nvda=\"http://www.nvidia.com/20240128\" xmlns:country=\"http://xbrl.sec.gov/country/2023\" xmlns:xbrldi=\"http://xbrl.org/2006/xbrldi\" xmlns=\"http://www.w3.org/1999/xhtml\" xmlns:srt=\"http://fasb.org/srt/2023\" xmlns:stpr=\"http://xbrl.sec.gov/stpr/2023\" xmlns:ecd=\"http://xbrl.sec.gov/ecd/2023\" xmlns:dei=\"http://xbrl.sec.gov/dei/2023\" xmlns:ix=\"http://www.xbrl.org/2013/inlineXBRL\" xmlns:link=\"http://www.xbrl.org/2003/linkbase\" xmlns:xbrli=\"http://www.xbrl.org/2003/instance\" xmlns:ixt-sec=\"http://www.sec.gov/inlineXBRL/transformation/2015-08-31\" xml:lang=\"en-US\"><head><meta http-equiv=\"Content-Type\" content=\"text/html\"/>\n",
            "\n",
            "\n",
            "<title>nvda-20240128</title></head><body><div style=\"display:none\"><ix:header><ix:hidden><ix:nonNumeric contextRef=\"c-1\" name=\"dei:EntityCentralIndexKey\" id=\"f-32\">0001045810</ix:nonNumeric><ix:nonNumeric contextRef=\"c-1\" name=\"dei:DocumentFiscalYearFocus\" id=\"f-33\">2024</ix:nonNumeric><ix:nonNumeric contextRef=\"c-1\" name=\"dei:DocumentFiscalPeriodFocus\" id=\"f-34\">FY</ix:nonNumeric><ix:nonNumeric contextRef=\"c-1\" name=\"dei:AmendmentFlag\" format=\"ixt:fixed-false\" id=\"f-35\">false</ix:nonNumeric><ix:nonNumeric contextRef=\"c-4\" name=\"ecd:TrdArrDuration\" format=\"ixt-sec:durday\" id=\"f-45\">350</ix:nonNumeric><ix:nonNumeric contextRef=\"c-46\" name=\"us-gaap:PropertyPlantAndEquipmentUsefulLife\" id=\"f-407\">P3Y</ix:nonNumeric><ix:nonNumeric contextRef=\"c-47\" name=\"us-gaap:PropertyPlantAndEquipmentUsefulLife\" id=\"f-408\">P4Y</ix:nonNumeric><ix:nonNumeric contextRef=\"c-49\" name=\"us-gaap:PropertyPlantAndEquipmentUsefulLife\" id=\"f-410\">P5Y</ix:nonNumeric><ix:nonNumeric contextRef=\"c-52\" name=\"nvda:WarrantyLiabilityTermOfWarranties\" id=\"f-420\">P1Y</ix:nonNumeri\n"
          ]
        }
      ],
      "source": [
        "print(text[1375:3284])"
      ]
    },
    {
      "cell_type": "code",
      "source": [
        "recent = get_recent_cik_and_acc_by_ticker(\n",
        "    'rgld',\n",
        "    '10-K',\n",
        "    company='IITM',\n",
        "    email='21f1001906@ds.study.iitm.ac.in'\n",
        ")"
      ],
      "metadata": {
        "id": "i-xIGvzDU7xF"
      },
      "execution_count": null,
      "outputs": []
    },
    {
      "cell_type": "code",
      "source": [
        "cik = recent[0]\n",
        "cik"
      ],
      "metadata": {
        "colab": {
          "base_uri": "https://localhost:8080/",
          "height": 35
        },
        "id": "hBFmbpEBVUj2",
        "outputId": "5a973c3e-0fb8-4c3f-d999-3ad17f6fcd95"
      },
      "execution_count": null,
      "outputs": [
        {
          "output_type": "execute_result",
          "data": {
            "text/plain": [
              "'0000085535'"
            ],
            "application/vnd.google.colaboratory.intrinsic+json": {
              "type": "string"
            }
          },
          "metadata": {},
          "execution_count": 20
        }
      ]
    },
    {
      "cell_type": "code",
      "source": [
        "def _get_session(company: Optional[str] = None, email: Optional[str] = None) -> requests.Session:\n",
        "    \"\"\"Creates a requests sessions with the appropriate headers set. If these headers are not\n",
        "    set, SEC will reject your request.\n",
        "    ref: https://www.sec.gov/os/accessing-edgar-data\"\"\"\n",
        "    if company is None:\n",
        "        company = os.environ.get(\"SEC_API_ORGANIZATION\")\n",
        "    if email is None:\n",
        "        email = os.environ.get(\"SEC_API_EMAIL\")\n",
        "    assert company\n",
        "    assert email\n",
        "    session = requests.Session()\n",
        "    session.headers.update(\n",
        "        {\n",
        "            \"User-Agent\": f\"{company} {email}\",\n",
        "            \"Content-Type\": \"text/html\",\n",
        "        }\n",
        "    )\n",
        "    return session"
      ],
      "metadata": {
        "id": "JK1DvBFCWn_U"
      },
      "execution_count": null,
      "outputs": []
    },
    {
      "cell_type": "code",
      "source": [
        "session = _get_session(\"IITM\", \"21f1001906@ds.study.iitm.ac.in\")"
      ],
      "metadata": {
        "id": "zjPOAVxWV8Ff"
      },
      "execution_count": null,
      "outputs": []
    },
    {
      "cell_type": "code",
      "source": [
        "form = get_forms_by_cik(session=session, cik=cik)"
      ],
      "metadata": {
        "id": "HhYl20IsWsfA"
      },
      "execution_count": null,
      "outputs": []
    },
    {
      "cell_type": "code",
      "source": [
        "recent"
      ],
      "metadata": {
        "colab": {
          "base_uri": "https://localhost:8080/"
        },
        "id": "6hni_annYMW0",
        "outputId": "69d9388e-cff6-4407-bc5a-a1d183c6f254"
      },
      "execution_count": null,
      "outputs": [
        {
          "output_type": "execute_result",
          "data": {
            "text/plain": [
              "('0000085535', '000155837024001301', '10-K/A')"
            ]
          },
          "metadata": {},
          "execution_count": 30
        }
      ]
    },
    {
      "cell_type": "code",
      "source": [
        "filtered_dict = {key: value for key, value in form.items() if value == '10-K'}\n",
        "\n",
        "print(filtered_dict)"
      ],
      "metadata": {
        "colab": {
          "base_uri": "https://localhost:8080/"
        },
        "id": "Y9rFWLRTWxMh",
        "outputId": "57371232-9f61-4e69-9671-9557c4986ffd"
      },
      "execution_count": null,
      "outputs": [
        {
          "output_type": "stream",
          "name": "stdout",
          "text": [
            "{'0001558370-24-001192': '10-K', '0001558370-23-001391': '10-K', '0001558370-21-011343': '10-K', '0001558370-20-009452': '10-K', '0001558370-19-007532': '10-K', '0001558370-18-006805': '10-K', '0001558370-17-006462': '10-K', '0001047469-16-014916': '10-K', '0001047469-15-006623': '10-K', '0001047469-14-006723': '10-K', '0001047469-13-008238': '10-K', '0001047469-12-008035': '10-K', '0001047469-11-007500': '10-K', '0001047469-10-007729': '10-K'}\n"
          ]
        }
      ]
    },
    {
      "cell_type": "code",
      "source": [
        "def _drop_dashes(accession_number: Union[str, int]) -> str:\n",
        "    \"\"\"Converts the accession number to the no dash representation.\"\"\"\n",
        "    accession_number = str(accession_number).replace(\"-\", \"\")\n",
        "    return accession_number.zfill(18)"
      ],
      "metadata": {
        "id": "0yP0nBvyZaCE"
      },
      "execution_count": null,
      "outputs": []
    },
    {
      "cell_type": "code",
      "source": [
        "!mkdir RGLD"
      ],
      "metadata": {
        "id": "VOkWEqpLb1Fh"
      },
      "execution_count": null,
      "outputs": []
    },
    {
      "cell_type": "code",
      "source": [
        "from datetime import datetime\n",
        "from bs4 import BeautifulSoup\n",
        "\n",
        "def get_10k_filings_by_ticker_with_years(ticker: str,\n",
        "                                         company: Optional[str] = \"IITM\",\n",
        "                                         email: Optional[str] = \"21f1001906@ds.study.iitm.ac.in\") -> List[Tuple[int, str]]:\n",
        "    session = _get_session(company, email)\n",
        "    cik = get_cik_by_ticker(session, ticker)\n",
        "    forms_dict = get_forms_by_cik(session, cik)\n",
        "    ten_k_filings = []\n",
        "    for accession_number, form_type in forms_dict.items():\n",
        "        if form_type == \"10-K\":\n",
        "            text = get_filing(cik, _drop_dashes(accession_number), company, email)\n",
        "            year = extract_filing_year(text)\n",
        "            ten_k_filings.append((year, text))\n",
        "    return ten_k_filings\n",
        "\n",
        "def extract_filing_year(text: str) -> int:\n",
        "    # Extract the filing year from the text content of the filing\n",
        "    pattern = re.compile(r\"CONFORMED PERIOD OF REPORT:\\s*(\\d{4})\\d{4}\")\n",
        "    match = pattern.search(text)\n",
        "    if match:\n",
        "        return int(match.group(1))\n",
        "    else:\n",
        "        raise ValueError(\"Unable to extract filing year\")\n",
        "\n",
        "# Example usage\n",
        "ticker = \"RGLD\"  # Example ticker symbol for Apple Inc.\n",
        "ten_k_filings_with_years = get_10k_filings_by_ticker_with_years(ticker)\n",
        "\n",
        "for year, filing_text in ten_k_filings_with_years:\n",
        "    if int(year) > 2015:\n",
        "      continue\n",
        "    print(f\"Year: {year}\")\n",
        "    all_narratives = pipeline_api(filing_text, response_type=\"text/csv\", m_section=[\"_ALL\"])\n",
        "\n",
        "    with open(f'{ticker}/{year}.csv', 'w') as out:\n",
        "        out.write(all_narratives)\n",
        "    #print(f\"Filing Text: {filing_text[:5000]}...\")\n",
        "    #print(\"=\" * 50)"
      ],
      "metadata": {
        "colab": {
          "base_uri": "https://localhost:8080/"
        },
        "id": "lrnctS03Y3Rd",
        "outputId": "5f0eb558-2bb8-45e7-c8c4-db938b160032"
      },
      "execution_count": null,
      "outputs": [
        {
          "output_type": "stream",
          "name": "stdout",
          "text": [
            "Year: 2015\n",
            "Year: 2014\n",
            "Year: 2013\n",
            "Year: 2012\n",
            "Year: 2011\n",
            "Year: 2010\n"
          ]
        }
      ]
    },
    {
      "cell_type": "code",
      "source": [
        "# Define the folder you want to zip\n",
        "folder_to_zip = '/content/pipeline-sec-filings/RGLD'\n",
        "\n",
        "# Define the destination path and name for the zip file\n",
        "destination_zip = '/content/your_zip_file_name.zip'\n",
        "\n",
        "# Use the zip command to compress the folder\n",
        "!zip -r \"$destination_zip\" \"$folder_to_zip\""
      ],
      "metadata": {
        "colab": {
          "base_uri": "https://localhost:8080/"
        },
        "id": "SD8s3B5Gm8kc",
        "outputId": "36f0397d-24f8-40e3-b248-6c55e1ce3f98"
      },
      "execution_count": null,
      "outputs": [
        {
          "output_type": "stream",
          "name": "stdout",
          "text": [
            "  adding: content/pipeline-sec-filings/RGLD/ (stored 0%)\n",
            "  adding: content/pipeline-sec-filings/RGLD/2014.csv (deflated 74%)\n",
            "  adding: content/pipeline-sec-filings/RGLD/2018.csv (deflated 75%)\n",
            "  adding: content/pipeline-sec-filings/RGLD/2020.csv (deflated 75%)\n",
            "  adding: content/pipeline-sec-filings/RGLD/2017.csv (deflated 75%)\n",
            "  adding: content/pipeline-sec-filings/RGLD/2019.csv (deflated 76%)\n",
            "  adding: content/pipeline-sec-filings/RGLD/2022.csv (deflated 75%)\n",
            "  adding: content/pipeline-sec-filings/RGLD/2021.csv (deflated 76%)\n",
            "  adding: content/pipeline-sec-filings/RGLD/2011.csv (deflated 73%)\n",
            "  adding: content/pipeline-sec-filings/RGLD/2010.csv (stored 0%)\n",
            "  adding: content/pipeline-sec-filings/RGLD/2012.csv (deflated 74%)\n",
            "  adding: content/pipeline-sec-filings/RGLD/2015.csv (deflated 74%)\n",
            "  adding: content/pipeline-sec-filings/RGLD/2023.csv (deflated 75%)\n",
            "  adding: content/pipeline-sec-filings/RGLD/2013.csv (deflated 74%)\n"
          ]
        }
      ]
    },
    {
      "cell_type": "markdown",
      "metadata": {
        "id": "OcefuRKgAUI8"
      },
      "source": [
        "Wow! We're able to pull in the document, but it's really messy.\n",
        "To help, we'll apply Unstructured Bricks to extract the information we're most interested in. Ultimately, we want to be able to ask the API\n",
        "for a section and get back the narrative text within that section like the JSON file below. Once\n",
        "we extract the narrative text, we can spin up a labeling task or send\n",
        "it to a downstream ML service for inference."
      ]
    },
    {
      "cell_type": "markdown",
      "metadata": {
        "id": "k0t_hxjHDVVz"
      },
      "source": [
        "```json\n",
        "[\n",
        "  {\n",
        "    \"text\": \"You should carefully consider the risks described in this section. Our future performance is subject to risks and uncertainties that could have a material adverse effect on our business, results of operations, and financial condition and the trading price of our common stock. We may be subject to other risks and uncertainties not presently known to us. In addition, please see our note about forward-looking statements included in the MD&A.\",\n",
        "    \"type\": \"NarrativeText\"\n",
        "  },\n",
        "  {\n",
        "    \"text\": \"Our revenue is subject to volatility in metal prices, which could negatively affect our results of operations or cash flow.\",\n",
        "    \"type\": \"NarrativeText\"\n",
        "  },\n",
        "  {\n",
        "    \"text\": \"Market prices for gold, silver, copper, nickel, and other metals may fluctuate widely over time and are affected by numerous factors beyond our control. These factors include metal supply and demand, industrial and jewelry fabrication, investment demand, central banking actions, inflation expectations, currency values, interest rates, forward sales by metal producers, and political, trade, economic, or banking conditions.\",\n",
        "    \"type\": \"NarrativeText\"\n",
        "  },\n",
        "```"
      ]
    },
    {
      "cell_type": "code",
      "execution_count": null,
      "metadata": {
        "id": "sEePJpuQDRyO"
      },
      "outputs": [],
      "source": [
        "from unstructured.documents.html import HTMLDocument\n",
        "\n",
        "html_document = HTMLDocument.from_string(text).doc_after_cleaners(skip_headers_and_footers=True, skip_table_text=True)"
      ]
    },
    {
      "cell_type": "code",
      "execution_count": null,
      "metadata": {
        "id": "8wiVw7wpAU3a"
      },
      "outputs": [],
      "source": [
        "for element in html_document.pages[0].elements[71:75]:\n",
        "    print(element)\n",
        "    print(\"\\n\")"
      ]
    },
    {
      "cell_type": "code",
      "source": [
        "print(html_document.pages[7])"
      ],
      "metadata": {
        "id": "bnHxevhCFa_u",
        "outputId": "e1cff047-8507-4fa9-f6ba-9733e2633bef",
        "colab": {
          "base_uri": "https://localhost:8080/"
        }
      },
      "execution_count": null,
      "outputs": [
        {
          "output_type": "stream",
          "name": "stdout",
          "text": [
            "Table of Contents\n",
            "\n",
            "tier-1 suppliers, and start-ups. Our AV solution also includes the GPU-based hardware required to train the neural networks before their in-vehicle deployment, as well as to re-simulate their operation prior to any over-the-air software updates. We believe our comprehensive, top-to-bottom and end-to-end approach will enable the transportation industry to solve the complex problems arising from the shift to autonomous driving.\n",
            "\n",
            "Leveraging our intellectual property, or IP.\n",
            "\n",
            "We believe our IP is a valuable asset that can be accessed by our customers and partners through license and development agreements when they desire to build such capabilities directly into their own products or have us do so through a custom development. Such license and development arrangements can further enhance the reach of our technology.\n",
            "\n",
            "Sales and Marketing\n",
            "\n",
            "Our worldwide sales and marketing strategy is key to achieving our objective of providing markets with our high-performance and efficient computing platforms and software. Our sales and marketing teams, located across our global markets, work closely with end customers and various industry ecosystems through our partner network. Our partner network incorporates global, regional and specialized CSPs, OEMs, ODMs, system integrators, independent software vendors, or ISVs, add-in board manufacturers, or AIBs, distributors, automotive manufacturers and tier-1 automotive suppliers, and other ecosystem participants.\n",
            "\n",
            "Members of our sales team have technical expertise and product and industry knowledge. We also employ a team of application engineers and solution architects to provide pre-sales assistance to our partner network in designing, testing, and qualifying system designs that incorporate our platforms. For example, our solution architects work with CSPs to provide pre-sales assistance to optimize their hardware and software infrastructure for generative AI and LLM training and deployment. They also work with foundation model and enterprise software developers to optimize the training and fine-tuning of their models and services, and with enterprise end-users, often in collaboration with their global system integrator of choice, to fine-tune models and build AI applications. We believe that the depth and quality of our design support are key to improving our partner network’s time-to-market, maintaining a high level of customer satisfaction, and fostering relationships that encourage our end customers and partner network to use the next generation of our products within each platform.\n",
            "\n",
            "To encourage the development of applications optimized for our platforms and software, we seek to establish and maintain strong relationships in the software development community. Engineering and marketing personnel engage with key software developers to promote and discuss our platforms, as well as to ascertain individual product requirements and solve technical problems. Our developer program supports the development of AI frameworks, SDKs, and APIs for software applications and game titles that are optimized for our platforms. Our Deep Learning Institute provides in-person and online training for developers in industries and organizations around the world to build AI and accelerated computing applications that leverage our platforms.\n",
            "\n",
            "Seasonality\n",
            "\n",
            "Our computing platforms serve a diverse set of markets such as data centers, gaming, professional visualization, and automotive. Our desktop gaming products typically see stronger revenue in the second half of our fiscal year. Historical seasonality trends may not repeat.\n",
            "\n",
            "Manufacturing\n",
            "\n",
            "We utilize a fabless and contracting manufacturing strategy, whereby we employ and partner with key suppliers for all phases of the manufacturing process, including wafer fabrication, assembly, testing, and packaging. We use the expertise of industry-leading suppliers that are certified by the International Organization for Standardization in such areas as fabrication, assembly, quality control and assurance, reliability, and testing. Additionally, we can avoid many of the significant costs and risks associated with owning and operating manufacturing operations. While we may directly procure certain raw materials used in the production of our products, such as memory, substrates, and a variety of components, our suppliers are responsible for procurement of most raw materials used in the production of our products. As a result, we can focus our resources on product design, quality assurance, marketing, and customer support. In periods of growth, we may place non-cancellable inventory orders for certain product components in advance of our historical lead times, pay premiums, or provide deposits to secure future supply and capacity and may need to continue to do so.\n",
            "\n",
            "We have expanded our supplier relationships to build redundancy and resilience in our operations to provide long-term manufacturing capacity aligned with growing customer demand. Our supply chain is concentrated in the Asia-Pacific region. We utilize foundries, such as Taiwan Semiconductor Manufacturing Company Limited, or TSMC, and Samsung Electronics Co., Ltd., or Samsung, to produce our semiconductor wafers. We purchase memory from Micron Technology, Inc., SK Hynix Inc., and Samsung. We utilize CoWoS technology for semiconductor packaging. We engage with independent subcontractors and contract manufacturers such as Hon Hai Precision Industry Co., Ltd., Wistron Corporation, and Fabrinet to perform assembly, testing and packaging of our final products.\n"
          ]
        }
      ]
    },
    {
      "cell_type": "code",
      "execution_count": null,
      "metadata": {
        "colab": {
          "base_uri": "https://localhost:8080/"
        },
        "id": "fHRUdAzfG8ac",
        "outputId": "fd7a976b-9a4e-46c1-bc27-cb36af1abf74"
      },
      "outputs": [
        {
          "output_type": "execute_result",
          "data": {
            "text/plain": [
              "[]"
            ]
          },
          "metadata": {},
          "execution_count": 81
        }
      ],
      "source": [
        "html_document.pages[0].elements[71:75]"
      ]
    },
    {
      "cell_type": "code",
      "execution_count": null,
      "metadata": {
        "colab": {
          "base_uri": "https://localhost:8080/"
        },
        "id": "M319zxBiHDAo",
        "outputId": "8c9da87b-edfd-4978-d989-2e1a8d312ca4"
      },
      "outputs": [
        {
          "output_type": "execute_result",
          "data": {
            "text/plain": [
              "True"
            ]
          },
          "metadata": {},
          "execution_count": 82
        }
      ],
      "source": [
        "from unstructured.nlp.partition import is_possible_title\n",
        "\n",
        "is_possible_title(\"Regulation\")"
      ]
    },
    {
      "cell_type": "code",
      "execution_count": null,
      "metadata": {
        "colab": {
          "base_uri": "https://localhost:8080/"
        },
        "id": "vs_V3Lh9HWOn",
        "outputId": "23c0d803-42b1-473e-8e14-42c0d246798e"
      },
      "outputs": [
        {
          "output_type": "execute_result",
          "data": {
            "text/plain": [
              "False"
            ]
          },
          "metadata": {},
          "execution_count": 83
        }
      ],
      "source": [
        "is_possible_title(\"\"\"Operators of the mines that are subject to our\n",
        "stream and royalty interests must comply with numerous environmental,\n",
        "mine safety, land use, waste disposal, remediation and public health\n",
        "laws and regulations promulgated by federal, state, provincial and\n",
        "local governments in the United States, Canada, Chile, the Dominican\n",
        "Republic, Ghana, Mexico, Botswana, Australia and other countries where\n",
        "we hold interests. Although we, as a stream or royalty interest owner,\n",
        "are not\"\"\")"
      ]
    },
    {
      "cell_type": "code",
      "execution_count": null,
      "metadata": {
        "colab": {
          "base_uri": "https://localhost:8080/"
        },
        "id": "oWxSMR5PHXWt",
        "outputId": "497098a0-e359-4076-9c45-2be38173dc75"
      },
      "outputs": [
        {
          "output_type": "execute_result",
          "data": {
            "text/plain": [
              "False"
            ]
          },
          "metadata": {},
          "execution_count": 84
        }
      ],
      "source": [
        "from unstructured.nlp.partition import is_possible_narrative_text\n",
        "\n",
        "is_possible_narrative_text(\"Regulation\")"
      ]
    },
    {
      "cell_type": "code",
      "execution_count": null,
      "metadata": {
        "colab": {
          "base_uri": "https://localhost:8080/"
        },
        "id": "l3NkMnQtHZkY",
        "outputId": "2407f156-42ca-411d-eb11-a815b7dd0208"
      },
      "outputs": [
        {
          "output_type": "execute_result",
          "data": {
            "text/plain": [
              "True"
            ]
          },
          "metadata": {},
          "execution_count": 12
        }
      ],
      "source": [
        "is_possible_narrative_text(\"\"\"Operators of the mines that are subject to our\n",
        "stream and royalty interests must comply with numerous environmental,\n",
        "mine safety, land use, waste disposal, remediation and public health\n",
        "laws and regulations promulgated by federal, state, provincial and\n",
        "local governments in the United States, Canada, Chile, the Dominican\n",
        "Republic, Ghana, Mexico, Botswana, Australia and other countries where\n",
        "we hold interests. Although we, as a stream or royalty interest owner,\n",
        "are not\"\"\")"
      ]
    },
    {
      "cell_type": "code",
      "execution_count": null,
      "metadata": {
        "id": "skM7eRBCHhew"
      },
      "outputs": [],
      "source": [
        "import re\n",
        "from unstructured.documents.elements import Title"
      ]
    },
    {
      "cell_type": "code",
      "execution_count": null,
      "metadata": {
        "id": "2moIWiylHljS"
      },
      "outputs": [],
      "source": [
        "ITEM_TITLE_RE = re.compile(\n",
        "    r\"(?i)item \\d{1,3}(?:[a-z]|\\([a-z]\\))?(?:\\.)?(?::)?\"\n",
        ")"
      ]
    },
    {
      "cell_type": "code",
      "execution_count": null,
      "metadata": {
        "id": "n-tmTMZMHpU3"
      },
      "outputs": [],
      "source": [
        "def is_10k_item_title(title: str) -> bool:\n",
        "    \"\"\"Determines if a title corresponds to a 10-K item heading.\"\"\"\n",
        "    return ITEM_TITLE_RE.match(title) is not None"
      ]
    },
    {
      "cell_type": "code",
      "source": [
        "for element in html_document.elements:\n",
        "    if isinstance(element, Title) and is_10k_item_title(element.text):\n",
        "        print(element)"
      ],
      "metadata": {
        "id": "5DUfiDBpHOPP",
        "outputId": "b85e898b-8e7c-4ba2-8761-a3e959cc19e9",
        "colab": {
          "base_uri": "https://localhost:8080/"
        }
      },
      "execution_count": null,
      "outputs": [
        {
          "output_type": "stream",
          "name": "stdout",
          "text": [
            "Item 1. Business\n",
            "Item 1A. Risk Factors\n",
            "Item 1B. Unresolved Staff Comments\n",
            "Item 1C. Cybersecurity\n",
            "Item 2. Properties\n",
            "Item 3. Legal Proceedings\n",
            "Item 4. Mine Safety Disclosures\n",
            "Item 7A. Quantitative and Qualitative Disclosures about Market Risk\n",
            "Item 9C.  Disclosure Regarding Foreign Jurisdictions that Prevent Inspections\n",
            "Item 10. Directors, Executive Officers and Corporate Governance\n",
            "Item 11. Executive Compensation\n",
            "Item 13. Certain Relationships and Related Transactions, and Director Independence\n",
            "Item 14. Principal Accountant Fees and Services\n"
          ]
        }
      ]
    },
    {
      "cell_type": "code",
      "execution_count": null,
      "metadata": {
        "colab": {
          "base_uri": "https://localhost:8080/"
        },
        "id": "RzSeAGZ1Hvt5",
        "outputId": "3642acae-bbb5-453f-e67e-a5410f4a0653"
      },
      "outputs": [
        {
          "output_type": "stream",
          "name": "stdout",
          "text": [
            "Item 1. Business\n",
            "Item 1A. Risk Factors\n",
            "Item 1B. Unresolved Staff Comments\n",
            "Item 1C. Cybersecurity\n",
            "Item 2. Properties\n",
            "Item 3. Legal Proceedings\n",
            "Item 4. Mine Safety Disclosures\n",
            "Item 7A. Quantitative and Qualitative Disclosures about Market Risk\n",
            "Item 9C.  Disclosure Regarding Foreign Jurisdictions that Prevent Inspections\n",
            "Item 10. Directors, Executive Officers and Corporate Governance\n",
            "Item 11. Executive Compensation\n",
            "Item 13. Certain Relationships and Related Transactions, and Director Independence\n",
            "Item 14. Principal Accountant Fees and Services\n"
          ]
        }
      ],
      "source": [
        "for element in html_document.elements:\n",
        "    if isinstance(element, Title) and is_10k_item_title(element.text):\n",
        "        print(element)"
      ]
    },
    {
      "cell_type": "code",
      "execution_count": null,
      "metadata": {
        "id": "M00gBZh-HzOt"
      },
      "outputs": [],
      "source": [
        "from unstructured.cleaners.core import clean_extra_whitespace"
      ]
    },
    {
      "cell_type": "code",
      "source": [
        "titles = []\n",
        "for element in html_document.elements:\n",
        "    #print(element)\n",
        "    element.text = clean_extra_whitespace(element.text)\n",
        "    if isinstance(element, Title) and is_10k_item_title(element.text):\n",
        "        titles.append(element)\n",
        "        print(element)"
      ],
      "metadata": {
        "id": "JlYuOSYqHSWv",
        "outputId": "98362d5b-ae6c-494f-d380-c1e4ab3707e3",
        "colab": {
          "base_uri": "https://localhost:8080/"
        }
      },
      "execution_count": null,
      "outputs": [
        {
          "output_type": "stream",
          "name": "stdout",
          "text": [
            "Item 1. Business\n",
            "Item 1A. Risk Factors\n",
            "Item 1B. Unresolved Staff Comments\n",
            "Item 1C. Cybersecurity\n",
            "Item 2. Properties\n",
            "Item 3. Legal Proceedings\n",
            "Item 4. Mine Safety Disclosures\n",
            "Item 7A. Quantitative and Qualitative Disclosures about Market Risk\n",
            "Item 8. Financial Statements and Supplementary Data\n",
            "Item 9. Changes in and Disagreements with Accountants on Accounting and Financial Disclosure\n",
            "Item 9A. Controls and Procedures\n",
            "Item 9B. Other Information\n",
            "Item 9C. Disclosure Regarding Foreign Jurisdictions that Prevent Inspections\n",
            "Item 10. Directors, Executive Officers and Corporate Governance\n",
            "Item 11. Executive Compensation\n",
            "Item 13. Certain Relationships and Related Transactions, and Director Independence\n",
            "Item 14. Principal Accountant Fees and Services\n",
            "Item 15. Exhibit and Financial Statement Schedules\n",
            "Item 16. Form 10-K Summary\n"
          ]
        }
      ]
    },
    {
      "cell_type": "code",
      "source": [
        "import pandas as pd"
      ],
      "metadata": {
        "id": "rmPAcYXhNSNP"
      },
      "execution_count": null,
      "outputs": []
    },
    {
      "cell_type": "code",
      "source": [
        "titles = []\n",
        "df = pd.DataFrame(columns=['Title', 'Text'])\n",
        "current_title = \"Misc.\"\n",
        "\n",
        "for element in html_document.elements:\n",
        "    #print(element)\n",
        "\n",
        "    element.text = clean_extra_whitespace(element.text)\n",
        "    if isinstance(element, Title) and is_10k_item_title(element.text):\n",
        "        titles.append(element)\n",
        "        print(element)\n",
        "        current_title = element.text\n",
        "    else:\n",
        "        new_row = {\n",
        "        'Title': current_title,\n",
        "        'Text': element.text\n",
        "    }\n",
        "        df = pd.concat([df, pd.DataFrame([new_row])], ignore_index=True)"
      ],
      "metadata": {
        "id": "CSx6ncUMNCjS",
        "outputId": "b77e494a-0b89-454e-f86f-265552c13cc8",
        "colab": {
          "base_uri": "https://localhost:8080/"
        }
      },
      "execution_count": null,
      "outputs": [
        {
          "output_type": "stream",
          "name": "stdout",
          "text": [
            "Item 1. Business\n",
            "Item 1A. Risk Factors\n",
            "Item 1B. Unresolved Staff Comments\n",
            "Item 1C. Cybersecurity\n",
            "Item 2. Properties\n",
            "Item 3. Legal Proceedings\n",
            "Item 4. Mine Safety Disclosures\n",
            "Item 7A. Quantitative and Qualitative Disclosures about Market Risk\n",
            "Item 8. Financial Statements and Supplementary Data\n",
            "Item 9. Changes in and Disagreements with Accountants on Accounting and Financial Disclosure\n",
            "Item 9A. Controls and Procedures\n",
            "Item 9B. Other Information\n",
            "Item 9C. Disclosure Regarding Foreign Jurisdictions that Prevent Inspections\n",
            "Item 10. Directors, Executive Officers and Corporate Governance\n",
            "Item 11. Executive Compensation\n",
            "Item 13. Certain Relationships and Related Transactions, and Director Independence\n",
            "Item 14. Principal Accountant Fees and Services\n",
            "Item 15. Exhibit and Financial Statement Schedules\n",
            "Item 16. Form 10-K Summary\n"
          ]
        }
      ]
    },
    {
      "cell_type": "code",
      "source": [
        "df.Title.value_counts()"
      ],
      "metadata": {
        "id": "ocXmrCdnOMKl",
        "outputId": "05992f6e-b2e3-4fed-ec32-0dca8f3c7bf0",
        "colab": {
          "base_uri": "https://localhost:8080/"
        }
      },
      "execution_count": null,
      "outputs": [
        {
          "output_type": "execute_result",
          "data": {
            "text/plain": [
              "Title\n",
              "Item 15. Exhibit and Financial Statement Schedules                                              436\n",
              "Item 1A. Risk Factors                                                                           245\n",
              "Item 4. Mine Safety Disclosures                                                                 168\n",
              "Item 1. Business                                                                                154\n",
              "Item 16. Form 10-K Summary                                                                      140\n",
              "Misc.                                                                                            49\n",
              "Item 9A. Controls and Procedures                                                                 17\n",
              "Item 10. Directors, Executive Officers and Corporate Governance                                  14\n",
              "Item 7A. Quantitative and Qualitative Disclosures about Market Risk                              13\n",
              "Item 1C. Cybersecurity                                                                           11\n",
              "Item 11. Executive Compensation                                                                   6\n",
              "Item 14. Principal Accountant Fees and Services                                                   4\n",
              "Item 9C. Disclosure Regarding Foreign Jurisdictions that Prevent Inspections                      3\n",
              "Item 3. Legal Proceedings                                                                         1\n",
              "Item 2. Properties                                                                                1\n",
              "Item 9. Changes in and Disagreements with Accountants on Accounting and Financial Disclosure      1\n",
              "Item 13. Certain Relationships and Related Transactions, and Director Independence                1\n",
              "Item 1B. Unresolved Staff Comments                                                                1\n",
              "Item 8. Financial Statements and Supplementary Data                                               1\n",
              "Name: count, dtype: int64"
            ]
          },
          "metadata": {},
          "execution_count": 123
        }
      ]
    },
    {
      "cell_type": "code",
      "source": [
        "df.Text"
      ],
      "metadata": {
        "id": "iHdV_zJ8PABc"
      },
      "execution_count": null,
      "outputs": []
    },
    {
      "cell_type": "code",
      "execution_count": null,
      "metadata": {
        "colab": {
          "base_uri": "https://localhost:8080/"
        },
        "id": "6_bH9MA3H6Q6",
        "outputId": "3a018b85-1a2e-4bd8-b269-2afed36977a2"
      },
      "outputs": [
        {
          "output_type": "stream",
          "name": "stdout",
          "text": [
            "<class 'str'>\n"
          ]
        }
      ],
      "source": [
        "titles = []\n",
        "for element in html_document.elements:\n",
        "    print(type(str(element)))\n",
        "    break\n",
        "    element.text = clean_extra_whitespace(element.text)\n",
        "    if isinstance(element, Title) and is_10k_item_title(element.text):\n",
        "        titles.append(element)\n",
        "        print(element)"
      ]
    },
    {
      "cell_type": "code",
      "source": [],
      "metadata": {
        "id": "nhwUumBqFvuw"
      },
      "execution_count": null,
      "outputs": []
    },
    {
      "cell_type": "code",
      "source": [
        "for i, el in enumerate(html_document.elements):\n",
        "  if el.id == titles[0].id:\n",
        "    break\n",
        "first_title_index = i\n",
        "for i in range(first_title_index, first_title_index+10):\n",
        "  print(html_document.elements[i])"
      ],
      "metadata": {
        "colab": {
          "base_uri": "https://localhost:8080/"
        },
        "id": "WQsS62Mdn9yF",
        "outputId": "db6872e9-00cb-42e6-8829-db5fd17c373e"
      },
      "execution_count": null,
      "outputs": [
        {
          "output_type": "stream",
          "name": "stdout",
          "text": [
            "Item 1\n",
            "Note About Forward-Looking Statements\n",
            "This report includes estimates, projections, statements relating to our business plans, objectives, and expected operating results that are “forward-looking statements” within the meaning of the Private Securities Litigation Reform Act of 1995, Section 27A of the Securities Act of 1933, and Section 21E of the Securities Exchange Act of 1934. Forward-looking statements may appear throughout this report, including the following sections: “Business” (Part I, Item 1 of this Form 10-K), “Risk Factors” (Part I, Item 1A of this Form 10-K), and “Management’s Discussion and Analysis of Financial Condition and Results of Operations” (Part II, Item 7 of this Form 10-K). These forward-looking statements generally are identified by the words “believe,” “project,” “expect,” “anticipate,” “estimate,” “intend,” “strategy,” “future,” “opportunity,” “plan,” “may,” “should,” “will,” “would,” “will be,” “will continue,” “will likely result,” and similar expressions. Forward-looking statements are based on current expectations and assumptions that are subject to risks and uncertainties that may cause actual results to differ materially. We describe risks and uncertainties that could cause actual results and events to differ materially in “Risk Factors,” “Management’s Discussion and Analysis of Financial Condition and Results of Operations,” and “Quantitative and Qualitative Disclosures about Market Risk” (Part II, Item 7A of this Form 10-K). Readers are cautioned not to place undue reliance on forward-looking statements, which speak only as of the date they are made. We undertake no obligation to update or revise publicly any forward-looking statements, whether because of new information, future events, or otherwise.\n",
            "PART I\n",
            "Item 1\n",
            "PART I\n",
            "ITEM 1. BUSINESS\n",
            "GENERAL\n",
            "Embracing Our Future\n",
            "Microsoft is a technology company whose mission is to empower every person and every organization on the planet to achieve more. We strive to create local opportunity, growth, and impact in every country around the world. We are creating the platforms and tools\n"
          ]
        }
      ]
    },
    {
      "cell_type": "code",
      "source": [
        "{type(el) for el in html_document.elements}"
      ],
      "metadata": {
        "colab": {
          "base_uri": "https://localhost:8080/"
        },
        "id": "hS3p3PaosxQY",
        "outputId": "ae67892a-d1b1-4db4-ce16-a7cb30c19bca"
      },
      "execution_count": null,
      "outputs": [
        {
          "output_type": "execute_result",
          "data": {
            "text/plain": [
              "{unstructured.documents.html.HTMLListItem,\n",
              " unstructured.documents.html.HTMLNarrativeText,\n",
              " unstructured.documents.html.HTMLText,\n",
              " unstructured.documents.html.HTMLTitle}"
            ]
          },
          "metadata": {},
          "execution_count": 49
        }
      ]
    },
    {
      "cell_type": "code",
      "source": [
        "from unstructured.documents.html import HTMLListItem\n",
        "for i, el in enumerate(html_document.elements):\n",
        "  if isinstance(el, HTMLListItem):\n",
        "    break\n",
        "first_list_item_idx = i\n",
        "for i in range(first_list_item_idx-1, first_list_item_idx+10):\n",
        "  print(html_document.elements[i], type(html_document.elements[i]))"
      ],
      "metadata": {
        "colab": {
          "base_uri": "https://localhost:8080/"
        },
        "id": "0XsDdYsIs8Ww",
        "outputId": "c254ac9c-6841-4e62-c712-14edd0573476"
      },
      "execution_count": null,
      "outputs": [
        {
          "output_type": "stream",
          "name": "stdout",
          "text": [
            "First Quarter 2023: <class 'unstructured.documents.html.HTMLTitle'>\n",
            "iPad and iPad Pro; <class 'unstructured.documents.html.HTMLListItem'>\n",
            "Next-generation Apple TV 4K; and <class 'unstructured.documents.html.HTMLListItem'>\n",
            "MLS Season Pass, a Major League Soccer subscription streaming service. <class 'unstructured.documents.html.HTMLListItem'>\n",
            "Second Quarter 2023: <class 'unstructured.documents.html.HTMLTitle'>\n",
            "MacBook Pro 14”, MacBook Pro 16” and Mac mini; and <class 'unstructured.documents.html.HTMLListItem'>\n",
            "Second-generation HomePod. <class 'unstructured.documents.html.HTMLListItem'>\n",
            "Third Quarter 2023: <class 'unstructured.documents.html.HTMLTitle'>\n",
            "MacBook Air 15”, Mac Studio and Mac Pro; <class 'unstructured.documents.html.HTMLListItem'>\n",
            "Apple Vision Pro™, the Company’s first spatial computer featuring its new visionOS™, expected to be available in early calendar year 2024; and <class 'unstructured.documents.html.HTMLListItem'>\n",
            "iOS 17, macOS Sonoma, iPadOS 17, tvOS 17 and watchOS 10, updates to the Company’s operating systems. <class 'unstructured.documents.html.HTMLListItem'>\n"
          ]
        }
      ]
    },
    {
      "cell_type": "code",
      "execution_count": null,
      "metadata": {
        "id": "huNEpmsmIBDa"
      },
      "outputs": [],
      "source": [
        "# pipeline-api\n",
        "from prepline_sec_filings.sections import section_string_to_enum, validate_section_names, SECSection\n",
        "from prepline_sec_filings.sec_document import SECDocument, REPORT_TYPES, VALID_FILING_TYPES"
      ]
    },
    {
      "cell_type": "code",
      "execution_count": null,
      "metadata": {
        "id": "LE506Rs6H9Q6",
        "outputId": "46386965-3440-428f-9aa5-f3ae4a4651f9",
        "colab": {
          "base_uri": "https://localhost:8080/",
          "height": 309
        }
      },
      "outputs": [
        {
          "output_type": "error",
          "ename": "KeyboardInterrupt",
          "evalue": "",
          "traceback": [
            "\u001b[0;31m---------------------------------------------------------------------------\u001b[0m",
            "\u001b[0;31mKeyboardInterrupt\u001b[0m                         Traceback (most recent call last)",
            "\u001b[0;32m<ipython-input-67-4bb4c191ed31>\u001b[0m in \u001b[0;36m<cell line: 2>\u001b[0;34m()\u001b[0m\n\u001b[1;32m      1\u001b[0m \u001b[0msec_document\u001b[0m \u001b[0;34m=\u001b[0m \u001b[0mSECDocument\u001b[0m\u001b[0;34m.\u001b[0m\u001b[0mfrom_string\u001b[0m\u001b[0;34m(\u001b[0m\u001b[0mtext\u001b[0m\u001b[0;34m)\u001b[0m\u001b[0;34m\u001b[0m\u001b[0;34m\u001b[0m\u001b[0m\n\u001b[0;32m----> 2\u001b[0;31m \u001b[0mrisk_narrative\u001b[0m \u001b[0;34m=\u001b[0m \u001b[0msec_document\u001b[0m\u001b[0;34m.\u001b[0m\u001b[0mget_section_narrative\u001b[0m\u001b[0;34m(\u001b[0m\u001b[0mSECSection\u001b[0m\u001b[0;34m.\u001b[0m\u001b[0mRISK_FACTORS\u001b[0m\u001b[0;34m)\u001b[0m\u001b[0;34m\u001b[0m\u001b[0;34m\u001b[0m\u001b[0m\n\u001b[0m",
            "\u001b[0;32m/content/pipeline-sec-filings/prepline_sec_filings/sec_document.py\u001b[0m in \u001b[0;36mget_section_narrative\u001b[0;34m(self, section)\u001b[0m\n\u001b[1;32m    163\u001b[0m         \u001b[0;31m# usually does not contain any tables and sometimes tables are used for\u001b[0m\u001b[0;34m\u001b[0m\u001b[0;34m\u001b[0m\u001b[0m\n\u001b[1;32m    164\u001b[0m         \u001b[0;31m# title formating\u001b[0m\u001b[0;34m\u001b[0m\u001b[0;34m\u001b[0m\u001b[0m\n\u001b[0;32m--> 165\u001b[0;31m         \u001b[0mtoc\u001b[0m \u001b[0;34m=\u001b[0m \u001b[0mself\u001b[0m\u001b[0;34m.\u001b[0m\u001b[0mget_table_of_contents\u001b[0m\u001b[0;34m(\u001b[0m\u001b[0;34m)\u001b[0m\u001b[0;34m\u001b[0m\u001b[0;34m\u001b[0m\u001b[0m\n\u001b[0m\u001b[1;32m    166\u001b[0m         \u001b[0;32mif\u001b[0m \u001b[0;32mnot\u001b[0m \u001b[0mtoc\u001b[0m\u001b[0;34m.\u001b[0m\u001b[0mpages\u001b[0m\u001b[0;34m:\u001b[0m\u001b[0;34m\u001b[0m\u001b[0;34m\u001b[0m\u001b[0m\n\u001b[1;32m    167\u001b[0m             \u001b[0;32mreturn\u001b[0m \u001b[0mself\u001b[0m\u001b[0;34m.\u001b[0m\u001b[0mget_section_narrative_no_toc\u001b[0m\u001b[0;34m(\u001b[0m\u001b[0msection\u001b[0m\u001b[0;34m)\u001b[0m\u001b[0;34m\u001b[0m\u001b[0;34m\u001b[0m\u001b[0m\n",
            "\u001b[0;32m/content/pipeline-sec-filings/prepline_sec_filings/sec_document.py\u001b[0m in \u001b[0;36mget_table_of_contents\u001b[0;34m(self)\u001b[0m\n\u001b[1;32m     88\u001b[0m         \u001b[0mout_cls\u001b[0m \u001b[0;34m=\u001b[0m \u001b[0mself\u001b[0m\u001b[0;34m.\u001b[0m\u001b[0m__class__\u001b[0m\u001b[0;34m\u001b[0m\u001b[0;34m\u001b[0m\u001b[0m\n\u001b[1;32m     89\u001b[0m         \u001b[0m_raise_for_invalid_filing_type\u001b[0m\u001b[0;34m(\u001b[0m\u001b[0mself\u001b[0m\u001b[0;34m.\u001b[0m\u001b[0mfiling_type\u001b[0m\u001b[0;34m)\u001b[0m\u001b[0;34m\u001b[0m\u001b[0;34m\u001b[0m\u001b[0m\n\u001b[0;32m---> 90\u001b[0;31m         \u001b[0mtitle_locs\u001b[0m \u001b[0;34m=\u001b[0m \u001b[0mto_sklearn_format\u001b[0m\u001b[0;34m(\u001b[0m\u001b[0mself\u001b[0m\u001b[0;34m.\u001b[0m\u001b[0melements\u001b[0m\u001b[0;34m)\u001b[0m\u001b[0;34m\u001b[0m\u001b[0;34m\u001b[0m\u001b[0m\n\u001b[0m\u001b[1;32m     91\u001b[0m         \u001b[0;32mif\u001b[0m \u001b[0mlen\u001b[0m\u001b[0;34m(\u001b[0m\u001b[0mtitle_locs\u001b[0m\u001b[0;34m)\u001b[0m \u001b[0;34m==\u001b[0m \u001b[0;36m0\u001b[0m\u001b[0;34m:\u001b[0m\u001b[0;34m\u001b[0m\u001b[0;34m\u001b[0m\u001b[0m\n\u001b[1;32m     92\u001b[0m             \u001b[0;32mreturn\u001b[0m \u001b[0mout_cls\u001b[0m\u001b[0;34m.\u001b[0m\u001b[0mfrom_elements\u001b[0m\u001b[0;34m(\u001b[0m\u001b[0;34m[\u001b[0m\u001b[0;34m]\u001b[0m\u001b[0;34m)\u001b[0m\u001b[0;34m\u001b[0m\u001b[0;34m\u001b[0m\u001b[0m\n",
            "\u001b[0;32m/usr/local/lib/python3.10/dist-packages/unstructured/documents/base.py\u001b[0m in \u001b[0;36melements\u001b[0;34m(self)\u001b[0m\n\u001b[1;32m     39\u001b[0m         \u001b[0;34m\"\"\"Gets all elements from pages in sequential order.\"\"\"\u001b[0m\u001b[0;34m\u001b[0m\u001b[0;34m\u001b[0m\u001b[0m\n\u001b[1;32m     40\u001b[0m         \u001b[0;32mif\u001b[0m \u001b[0mself\u001b[0m\u001b[0;34m.\u001b[0m\u001b[0m_elements\u001b[0m \u001b[0;32mis\u001b[0m \u001b[0;32mNone\u001b[0m\u001b[0;34m:\u001b[0m\u001b[0;34m\u001b[0m\u001b[0;34m\u001b[0m\u001b[0m\n\u001b[0;32m---> 41\u001b[0;31m             \u001b[0mself\u001b[0m\u001b[0;34m.\u001b[0m\u001b[0m_elements\u001b[0m \u001b[0;34m=\u001b[0m \u001b[0;34m[\u001b[0m\u001b[0mel\u001b[0m \u001b[0;32mfor\u001b[0m \u001b[0mpage\u001b[0m \u001b[0;32min\u001b[0m \u001b[0mself\u001b[0m\u001b[0;34m.\u001b[0m\u001b[0mpages\u001b[0m \u001b[0;32mfor\u001b[0m \u001b[0mel\u001b[0m \u001b[0;32min\u001b[0m \u001b[0mpage\u001b[0m\u001b[0;34m.\u001b[0m\u001b[0melements\u001b[0m\u001b[0;34m]\u001b[0m\u001b[0;34m\u001b[0m\u001b[0;34m\u001b[0m\u001b[0m\n\u001b[0m\u001b[1;32m     42\u001b[0m         \u001b[0;32mreturn\u001b[0m \u001b[0mself\u001b[0m\u001b[0;34m.\u001b[0m\u001b[0m_elements\u001b[0m\u001b[0;34m\u001b[0m\u001b[0;34m\u001b[0m\u001b[0m\n\u001b[1;32m     43\u001b[0m \u001b[0;34m\u001b[0m\u001b[0m\n",
            "\u001b[0;32m/usr/local/lib/python3.10/dist-packages/unstructured/documents/xml.py\u001b[0m in \u001b[0;36mpages\u001b[0;34m(self)\u001b[0m\n\u001b[1;32m     47\u001b[0m         \u001b[0;34m\"\"\"Gets all elements from pages in sequential order.\"\"\"\u001b[0m\u001b[0;34m\u001b[0m\u001b[0;34m\u001b[0m\u001b[0m\n\u001b[1;32m     48\u001b[0m         \u001b[0;32mif\u001b[0m \u001b[0mself\u001b[0m\u001b[0;34m.\u001b[0m\u001b[0m_pages\u001b[0m \u001b[0;32mis\u001b[0m \u001b[0;32mNone\u001b[0m\u001b[0;34m:\u001b[0m\u001b[0;34m\u001b[0m\u001b[0;34m\u001b[0m\u001b[0m\n\u001b[0;32m---> 49\u001b[0;31m             \u001b[0mself\u001b[0m\u001b[0;34m.\u001b[0m\u001b[0m_pages\u001b[0m \u001b[0;34m=\u001b[0m \u001b[0mself\u001b[0m\u001b[0;34m.\u001b[0m\u001b[0m_read\u001b[0m\u001b[0;34m(\u001b[0m\u001b[0;34m)\u001b[0m\u001b[0;34m\u001b[0m\u001b[0;34m\u001b[0m\u001b[0m\n\u001b[0m\u001b[1;32m     50\u001b[0m         \u001b[0;32mreturn\u001b[0m \u001b[0msuper\u001b[0m\u001b[0;34m(\u001b[0m\u001b[0;34m)\u001b[0m\u001b[0;34m.\u001b[0m\u001b[0mpages\u001b[0m\u001b[0;34m\u001b[0m\u001b[0;34m\u001b[0m\u001b[0m\n\u001b[1;32m     51\u001b[0m \u001b[0;34m\u001b[0m\u001b[0m\n",
            "\u001b[0;32m/usr/local/lib/python3.10/dist-packages/unstructured/documents/html.py\u001b[0m in \u001b[0;36m_read\u001b[0;34m(self)\u001b[0m\n\u001b[1;32m    105\u001b[0m \u001b[0;34m\u001b[0m\u001b[0m\n\u001b[1;32m    106\u001b[0m                 \u001b[0;32mif\u001b[0m \u001b[0m_is_text_tag\u001b[0m\u001b[0;34m(\u001b[0m\u001b[0mtag_elem\u001b[0m\u001b[0;34m)\u001b[0m\u001b[0;34m:\u001b[0m\u001b[0;34m\u001b[0m\u001b[0;34m\u001b[0m\u001b[0m\n\u001b[0;32m--> 107\u001b[0;31m                     \u001b[0melement\u001b[0m \u001b[0;34m=\u001b[0m \u001b[0m_parse_tag\u001b[0m\u001b[0;34m(\u001b[0m\u001b[0mtag_elem\u001b[0m\u001b[0;34m)\u001b[0m\u001b[0;34m\u001b[0m\u001b[0;34m\u001b[0m\u001b[0m\n\u001b[0m\u001b[1;32m    108\u001b[0m                     \u001b[0;32mif\u001b[0m \u001b[0melement\u001b[0m \u001b[0;32mis\u001b[0m \u001b[0;32mnot\u001b[0m \u001b[0;32mNone\u001b[0m\u001b[0;34m:\u001b[0m\u001b[0;34m\u001b[0m\u001b[0;34m\u001b[0m\u001b[0m\n\u001b[1;32m    109\u001b[0m                         \u001b[0mpage\u001b[0m\u001b[0;34m.\u001b[0m\u001b[0melements\u001b[0m\u001b[0;34m.\u001b[0m\u001b[0mappend\u001b[0m\u001b[0;34m(\u001b[0m\u001b[0melement\u001b[0m\u001b[0;34m)\u001b[0m\u001b[0;34m\u001b[0m\u001b[0;34m\u001b[0m\u001b[0m\n",
            "\u001b[0;32m/usr/local/lib/python3.10/dist-packages/unstructured/documents/html.py\u001b[0m in \u001b[0;36m_parse_tag\u001b[0;34m(tag_elem)\u001b[0m\n\u001b[1;32m    207\u001b[0m     \u001b[0;32mif\u001b[0m \u001b[0;32mnot\u001b[0m \u001b[0mtext\u001b[0m\u001b[0;34m:\u001b[0m\u001b[0;34m\u001b[0m\u001b[0;34m\u001b[0m\u001b[0m\n\u001b[1;32m    208\u001b[0m         \u001b[0;32mreturn\u001b[0m \u001b[0;32mNone\u001b[0m\u001b[0;34m\u001b[0m\u001b[0;34m\u001b[0m\u001b[0m\n\u001b[0;32m--> 209\u001b[0;31m     \u001b[0;32mreturn\u001b[0m \u001b[0m_text_to_element\u001b[0m\u001b[0;34m(\u001b[0m\u001b[0mtext\u001b[0m\u001b[0;34m,\u001b[0m \u001b[0mtag_elem\u001b[0m\u001b[0;34m.\u001b[0m\u001b[0mtag\u001b[0m\u001b[0;34m,\u001b[0m \u001b[0mancestortags\u001b[0m\u001b[0;34m)\u001b[0m\u001b[0;34m\u001b[0m\u001b[0;34m\u001b[0m\u001b[0m\n\u001b[0m\u001b[1;32m    210\u001b[0m \u001b[0;34m\u001b[0m\u001b[0m\n\u001b[1;32m    211\u001b[0m \u001b[0;34m\u001b[0m\u001b[0m\n",
            "\u001b[0;32m/usr/local/lib/python3.10/dist-packages/unstructured/documents/html.py\u001b[0m in \u001b[0;36m_text_to_element\u001b[0;34m(text, tag, ancestortags)\u001b[0m\n\u001b[1;32m    222\u001b[0m     \u001b[0;32mif\u001b[0m \u001b[0mlen\u001b[0m\u001b[0;34m(\u001b[0m\u001b[0mtext\u001b[0m\u001b[0;34m)\u001b[0m \u001b[0;34m<\u001b[0m \u001b[0;36m2\u001b[0m\u001b[0;34m:\u001b[0m\u001b[0;34m\u001b[0m\u001b[0;34m\u001b[0m\u001b[0m\n\u001b[1;32m    223\u001b[0m         \u001b[0;32mreturn\u001b[0m \u001b[0;32mNone\u001b[0m\u001b[0;34m\u001b[0m\u001b[0;34m\u001b[0m\u001b[0m\n\u001b[0;32m--> 224\u001b[0;31m     \u001b[0;32melif\u001b[0m \u001b[0mis_narrative_tag\u001b[0m\u001b[0;34m(\u001b[0m\u001b[0mtext\u001b[0m\u001b[0;34m,\u001b[0m \u001b[0mtag\u001b[0m\u001b[0;34m)\u001b[0m\u001b[0;34m:\u001b[0m\u001b[0;34m\u001b[0m\u001b[0;34m\u001b[0m\u001b[0m\n\u001b[0m\u001b[1;32m    225\u001b[0m         \u001b[0;32mreturn\u001b[0m \u001b[0mHTMLNarrativeText\u001b[0m\u001b[0;34m(\u001b[0m\u001b[0mtext\u001b[0m\u001b[0;34m,\u001b[0m \u001b[0mtag\u001b[0m\u001b[0;34m=\u001b[0m\u001b[0mtag\u001b[0m\u001b[0;34m,\u001b[0m \u001b[0mancestortags\u001b[0m\u001b[0;34m=\u001b[0m\u001b[0mancestortags\u001b[0m\u001b[0;34m)\u001b[0m\u001b[0;34m\u001b[0m\u001b[0;34m\u001b[0m\u001b[0m\n\u001b[1;32m    226\u001b[0m     \u001b[0;32melif\u001b[0m \u001b[0mis_possible_title\u001b[0m\u001b[0;34m(\u001b[0m\u001b[0mtext\u001b[0m\u001b[0;34m)\u001b[0m\u001b[0;34m:\u001b[0m\u001b[0;34m\u001b[0m\u001b[0;34m\u001b[0m\u001b[0m\n",
            "\u001b[0;32m/usr/local/lib/python3.10/dist-packages/unstructured/documents/html.py\u001b[0m in \u001b[0;36mis_narrative_tag\u001b[0;34m(text, tag)\u001b[0m\n\u001b[1;32m    250\u001b[0m \u001b[0;32mdef\u001b[0m \u001b[0mis_narrative_tag\u001b[0m\u001b[0;34m(\u001b[0m\u001b[0mtext\u001b[0m\u001b[0;34m:\u001b[0m \u001b[0mstr\u001b[0m\u001b[0;34m,\u001b[0m \u001b[0mtag\u001b[0m\u001b[0;34m:\u001b[0m \u001b[0mstr\u001b[0m\u001b[0;34m)\u001b[0m \u001b[0;34m->\u001b[0m \u001b[0mbool\u001b[0m\u001b[0;34m:\u001b[0m\u001b[0;34m\u001b[0m\u001b[0;34m\u001b[0m\u001b[0m\n\u001b[1;32m    251\u001b[0m     \u001b[0;34m\"\"\"Uses tag information to infer whether text is narrative.\"\"\"\u001b[0m\u001b[0;34m\u001b[0m\u001b[0;34m\u001b[0m\u001b[0m\n\u001b[0;32m--> 252\u001b[0;31m     \u001b[0;32mreturn\u001b[0m \u001b[0mtag\u001b[0m \u001b[0;32mnot\u001b[0m \u001b[0;32min\u001b[0m \u001b[0mHEADING_TAGS\u001b[0m \u001b[0;32mand\u001b[0m \u001b[0mis_possible_narrative_text\u001b[0m\u001b[0;34m(\u001b[0m\u001b[0mtext\u001b[0m\u001b[0;34m)\u001b[0m\u001b[0;34m\u001b[0m\u001b[0;34m\u001b[0m\u001b[0m\n\u001b[0m\u001b[1;32m    253\u001b[0m \u001b[0;34m\u001b[0m\u001b[0m\n\u001b[1;32m    254\u001b[0m \u001b[0;34m\u001b[0m\u001b[0m\n",
            "\u001b[0;32m/usr/local/lib/python3.10/dist-packages/unstructured/partition/text_type.py\u001b[0m in \u001b[0;36mis_possible_narrative_text\u001b[0;34m(text, cap_threshold, non_alpha_threshold, language)\u001b[0m\n\u001b[1;32m     68\u001b[0m         \u001b[0;32mreturn\u001b[0m \u001b[0;32mFalse\u001b[0m\u001b[0;34m\u001b[0m\u001b[0;34m\u001b[0m\u001b[0m\n\u001b[1;32m     69\u001b[0m \u001b[0;34m\u001b[0m\u001b[0m\n\u001b[0;32m---> 70\u001b[0;31m     \u001b[0;32mif\u001b[0m \u001b[0;34m(\u001b[0m\u001b[0msentence_count\u001b[0m\u001b[0;34m(\u001b[0m\u001b[0mtext\u001b[0m\u001b[0;34m,\u001b[0m \u001b[0;36m3\u001b[0m\u001b[0;34m)\u001b[0m \u001b[0;34m<\u001b[0m \u001b[0;36m2\u001b[0m\u001b[0;34m)\u001b[0m \u001b[0;32mand\u001b[0m \u001b[0;34m(\u001b[0m\u001b[0;32mnot\u001b[0m \u001b[0mcontains_verb\u001b[0m\u001b[0;34m(\u001b[0m\u001b[0mtext\u001b[0m\u001b[0;34m)\u001b[0m\u001b[0;34m)\u001b[0m\u001b[0;34m:\u001b[0m\u001b[0;34m\u001b[0m\u001b[0;34m\u001b[0m\u001b[0m\n\u001b[0m\u001b[1;32m     71\u001b[0m         \u001b[0mlogger\u001b[0m\u001b[0;34m.\u001b[0m\u001b[0mdebug\u001b[0m\u001b[0;34m(\u001b[0m\u001b[0;34mf\"Not narrative. Text does not contain a verb:\\n\\n{text}\"\u001b[0m\u001b[0;34m)\u001b[0m\u001b[0;34m\u001b[0m\u001b[0;34m\u001b[0m\u001b[0m\n\u001b[1;32m     72\u001b[0m         \u001b[0;32mreturn\u001b[0m \u001b[0;32mFalse\u001b[0m\u001b[0;34m\u001b[0m\u001b[0;34m\u001b[0m\u001b[0m\n",
            "\u001b[0;32m/usr/local/lib/python3.10/dist-packages/unstructured/partition/text_type.py\u001b[0m in \u001b[0;36mcontains_verb\u001b[0;34m(text)\u001b[0m\n\u001b[1;32m    157\u001b[0m         \u001b[0mtext\u001b[0m \u001b[0;34m=\u001b[0m \u001b[0mtext\u001b[0m\u001b[0;34m.\u001b[0m\u001b[0mlower\u001b[0m\u001b[0;34m(\u001b[0m\u001b[0;34m)\u001b[0m\u001b[0;34m\u001b[0m\u001b[0;34m\u001b[0m\u001b[0m\n\u001b[1;32m    158\u001b[0m \u001b[0;34m\u001b[0m\u001b[0m\n\u001b[0;32m--> 159\u001b[0;31m     \u001b[0mpos_tags\u001b[0m \u001b[0;34m=\u001b[0m \u001b[0mpos_tag\u001b[0m\u001b[0;34m(\u001b[0m\u001b[0mtext\u001b[0m\u001b[0;34m)\u001b[0m\u001b[0;34m\u001b[0m\u001b[0;34m\u001b[0m\u001b[0m\n\u001b[0m\u001b[1;32m    160\u001b[0m     \u001b[0;32mfor\u001b[0m \u001b[0m_\u001b[0m\u001b[0;34m,\u001b[0m \u001b[0mtag\u001b[0m \u001b[0;32min\u001b[0m \u001b[0mpos_tags\u001b[0m\u001b[0;34m:\u001b[0m\u001b[0;34m\u001b[0m\u001b[0;34m\u001b[0m\u001b[0m\n\u001b[1;32m    161\u001b[0m         \u001b[0;32mif\u001b[0m \u001b[0mtag\u001b[0m \u001b[0;32min\u001b[0m \u001b[0mPOS_VERB_TAGS\u001b[0m\u001b[0;34m:\u001b[0m\u001b[0;34m\u001b[0m\u001b[0;34m\u001b[0m\u001b[0m\n",
            "\u001b[0;32m/usr/local/lib/python3.10/dist-packages/unstructured/nlp/tokenize.py\u001b[0m in \u001b[0;36mpos_tag\u001b[0;34m(text)\u001b[0m\n\u001b[1;32m     39\u001b[0m     \u001b[0;32mfor\u001b[0m \u001b[0msentence\u001b[0m \u001b[0;32min\u001b[0m \u001b[0msentences\u001b[0m\u001b[0;34m:\u001b[0m\u001b[0;34m\u001b[0m\u001b[0;34m\u001b[0m\u001b[0m\n\u001b[1;32m     40\u001b[0m         \u001b[0mtokens\u001b[0m \u001b[0;34m=\u001b[0m \u001b[0m_word_tokenize\u001b[0m\u001b[0;34m(\u001b[0m\u001b[0msentence\u001b[0m\u001b[0;34m)\u001b[0m\u001b[0;34m\u001b[0m\u001b[0;34m\u001b[0m\u001b[0m\n\u001b[0;32m---> 41\u001b[0;31m         \u001b[0mparts_of_speech\u001b[0m\u001b[0;34m.\u001b[0m\u001b[0mextend\u001b[0m\u001b[0;34m(\u001b[0m\u001b[0m_pos_tag\u001b[0m\u001b[0;34m(\u001b[0m\u001b[0mtokens\u001b[0m\u001b[0;34m)\u001b[0m\u001b[0;34m)\u001b[0m\u001b[0;34m\u001b[0m\u001b[0;34m\u001b[0m\u001b[0m\n\u001b[0m\u001b[1;32m     42\u001b[0m     \u001b[0;32mreturn\u001b[0m \u001b[0mparts_of_speech\u001b[0m\u001b[0;34m\u001b[0m\u001b[0;34m\u001b[0m\u001b[0m\n",
            "\u001b[0;32m/usr/local/lib/python3.10/dist-packages/nltk/tag/__init__.py\u001b[0m in \u001b[0;36mpos_tag\u001b[0;34m(tokens, tagset, lang)\u001b[0m\n\u001b[1;32m    164\u001b[0m     \"\"\"\n\u001b[1;32m    165\u001b[0m     \u001b[0mtagger\u001b[0m \u001b[0;34m=\u001b[0m \u001b[0m_get_tagger\u001b[0m\u001b[0;34m(\u001b[0m\u001b[0mlang\u001b[0m\u001b[0;34m)\u001b[0m\u001b[0;34m\u001b[0m\u001b[0;34m\u001b[0m\u001b[0m\n\u001b[0;32m--> 166\u001b[0;31m     \u001b[0;32mreturn\u001b[0m \u001b[0m_pos_tag\u001b[0m\u001b[0;34m(\u001b[0m\u001b[0mtokens\u001b[0m\u001b[0;34m,\u001b[0m \u001b[0mtagset\u001b[0m\u001b[0;34m,\u001b[0m \u001b[0mtagger\u001b[0m\u001b[0;34m,\u001b[0m \u001b[0mlang\u001b[0m\u001b[0;34m)\u001b[0m\u001b[0;34m\u001b[0m\u001b[0;34m\u001b[0m\u001b[0m\n\u001b[0m\u001b[1;32m    167\u001b[0m \u001b[0;34m\u001b[0m\u001b[0m\n\u001b[1;32m    168\u001b[0m \u001b[0;34m\u001b[0m\u001b[0m\n",
            "\u001b[0;32m/usr/local/lib/python3.10/dist-packages/nltk/tag/__init__.py\u001b[0m in \u001b[0;36m_pos_tag\u001b[0;34m(tokens, tagset, tagger, lang)\u001b[0m\n\u001b[1;32m    121\u001b[0m \u001b[0;34m\u001b[0m\u001b[0m\n\u001b[1;32m    122\u001b[0m     \u001b[0;32melse\u001b[0m\u001b[0;34m:\u001b[0m\u001b[0;34m\u001b[0m\u001b[0;34m\u001b[0m\u001b[0m\n\u001b[0;32m--> 123\u001b[0;31m         \u001b[0mtagged_tokens\u001b[0m \u001b[0;34m=\u001b[0m \u001b[0mtagger\u001b[0m\u001b[0;34m.\u001b[0m\u001b[0mtag\u001b[0m\u001b[0;34m(\u001b[0m\u001b[0mtokens\u001b[0m\u001b[0;34m)\u001b[0m\u001b[0;34m\u001b[0m\u001b[0;34m\u001b[0m\u001b[0m\n\u001b[0m\u001b[1;32m    124\u001b[0m         \u001b[0;32mif\u001b[0m \u001b[0mtagset\u001b[0m\u001b[0;34m:\u001b[0m  \u001b[0;31m# Maps to the specified tagset.\u001b[0m\u001b[0;34m\u001b[0m\u001b[0;34m\u001b[0m\u001b[0m\n\u001b[1;32m    125\u001b[0m             \u001b[0;32mif\u001b[0m \u001b[0mlang\u001b[0m \u001b[0;34m==\u001b[0m \u001b[0;34m\"eng\"\u001b[0m\u001b[0;34m:\u001b[0m\u001b[0;34m\u001b[0m\u001b[0;34m\u001b[0m\u001b[0m\n",
            "\u001b[0;32m/usr/local/lib/python3.10/dist-packages/nltk/tag/perceptron.py\u001b[0m in \u001b[0;36mtag\u001b[0;34m(self, tokens, return_conf, use_tagdict)\u001b[0m\n\u001b[1;32m    185\u001b[0m             \u001b[0;32mif\u001b[0m \u001b[0;32mnot\u001b[0m \u001b[0mtag\u001b[0m\u001b[0;34m:\u001b[0m\u001b[0;34m\u001b[0m\u001b[0;34m\u001b[0m\u001b[0m\n\u001b[1;32m    186\u001b[0m                 \u001b[0mfeatures\u001b[0m \u001b[0;34m=\u001b[0m \u001b[0mself\u001b[0m\u001b[0;34m.\u001b[0m\u001b[0m_get_features\u001b[0m\u001b[0;34m(\u001b[0m\u001b[0mi\u001b[0m\u001b[0;34m,\u001b[0m \u001b[0mword\u001b[0m\u001b[0;34m,\u001b[0m \u001b[0mcontext\u001b[0m\u001b[0;34m,\u001b[0m \u001b[0mprev\u001b[0m\u001b[0;34m,\u001b[0m \u001b[0mprev2\u001b[0m\u001b[0;34m)\u001b[0m\u001b[0;34m\u001b[0m\u001b[0;34m\u001b[0m\u001b[0m\n\u001b[0;32m--> 187\u001b[0;31m                 \u001b[0mtag\u001b[0m\u001b[0;34m,\u001b[0m \u001b[0mconf\u001b[0m \u001b[0;34m=\u001b[0m \u001b[0mself\u001b[0m\u001b[0;34m.\u001b[0m\u001b[0mmodel\u001b[0m\u001b[0;34m.\u001b[0m\u001b[0mpredict\u001b[0m\u001b[0;34m(\u001b[0m\u001b[0mfeatures\u001b[0m\u001b[0;34m,\u001b[0m \u001b[0mreturn_conf\u001b[0m\u001b[0;34m)\u001b[0m\u001b[0;34m\u001b[0m\u001b[0;34m\u001b[0m\u001b[0m\n\u001b[0m\u001b[1;32m    188\u001b[0m             \u001b[0moutput\u001b[0m\u001b[0;34m.\u001b[0m\u001b[0mappend\u001b[0m\u001b[0;34m(\u001b[0m\u001b[0;34m(\u001b[0m\u001b[0mword\u001b[0m\u001b[0;34m,\u001b[0m \u001b[0mtag\u001b[0m\u001b[0;34m,\u001b[0m \u001b[0mconf\u001b[0m\u001b[0;34m)\u001b[0m \u001b[0;32mif\u001b[0m \u001b[0mreturn_conf\u001b[0m \u001b[0;34m==\u001b[0m \u001b[0;32mTrue\u001b[0m \u001b[0;32melse\u001b[0m \u001b[0;34m(\u001b[0m\u001b[0mword\u001b[0m\u001b[0;34m,\u001b[0m \u001b[0mtag\u001b[0m\u001b[0;34m)\u001b[0m\u001b[0;34m)\u001b[0m\u001b[0;34m\u001b[0m\u001b[0;34m\u001b[0m\u001b[0m\n\u001b[1;32m    189\u001b[0m \u001b[0;34m\u001b[0m\u001b[0m\n",
            "\u001b[0;32m/usr/local/lib/python3.10/dist-packages/nltk/tag/perceptron.py\u001b[0m in \u001b[0;36mpredict\u001b[0;34m(self, features, return_conf)\u001b[0m\n\u001b[1;32m     64\u001b[0m             \u001b[0mweights\u001b[0m \u001b[0;34m=\u001b[0m \u001b[0mself\u001b[0m\u001b[0;34m.\u001b[0m\u001b[0mweights\u001b[0m\u001b[0;34m[\u001b[0m\u001b[0mfeat\u001b[0m\u001b[0;34m]\u001b[0m\u001b[0;34m\u001b[0m\u001b[0;34m\u001b[0m\u001b[0m\n\u001b[1;32m     65\u001b[0m             \u001b[0;32mfor\u001b[0m \u001b[0mlabel\u001b[0m\u001b[0;34m,\u001b[0m \u001b[0mweight\u001b[0m \u001b[0;32min\u001b[0m \u001b[0mweights\u001b[0m\u001b[0;34m.\u001b[0m\u001b[0mitems\u001b[0m\u001b[0;34m(\u001b[0m\u001b[0;34m)\u001b[0m\u001b[0;34m:\u001b[0m\u001b[0;34m\u001b[0m\u001b[0;34m\u001b[0m\u001b[0m\n\u001b[0;32m---> 66\u001b[0;31m                 \u001b[0mscores\u001b[0m\u001b[0;34m[\u001b[0m\u001b[0mlabel\u001b[0m\u001b[0;34m]\u001b[0m \u001b[0;34m+=\u001b[0m \u001b[0mvalue\u001b[0m \u001b[0;34m*\u001b[0m \u001b[0mweight\u001b[0m\u001b[0;34m\u001b[0m\u001b[0;34m\u001b[0m\u001b[0m\n\u001b[0m\u001b[1;32m     67\u001b[0m \u001b[0;34m\u001b[0m\u001b[0m\n\u001b[1;32m     68\u001b[0m         \u001b[0;31m# Do a secondary alphabetic sort, for stability\u001b[0m\u001b[0;34m\u001b[0m\u001b[0;34m\u001b[0m\u001b[0m\n",
            "\u001b[0;31mKeyboardInterrupt\u001b[0m: "
          ]
        }
      ],
      "source": [
        "sec_document = SECDocument.from_string(text)\n",
        "risk_narrative = sec_document.get_section_narrative(SECSection.RISK_FACTORS)"
      ]
    },
    {
      "cell_type": "code",
      "execution_count": null,
      "metadata": {
        "colab": {
          "base_uri": "https://localhost:8080/"
        },
        "id": "Q1-odS7VIIqj",
        "outputId": "ffdd66be-0190-4677-da3f-2a1c67015680"
      },
      "outputs": [
        {
          "output_type": "stream",
          "name": "stdout",
          "text": [
            "The Company’s business, reputation, results of operations, financial condition and stock price can be affected by a number of factors, whether currently known or unknown, including those described below. When any one or more of these risks materialize from time to time, the Company’s business, reputation, results of operations, financial condition and stock price can be materially and adversely affected.\n",
            "\n",
            "\n",
            "Because of the following factors, as well as other factors affecting the Company’s results of operations and financial condition, past financial performance should not be considered to be a reliable indicator of future performance, and investors should not use historical trends to anticipate results or trends in future periods. This discussion of risk factors contains forward-looking statements.\n",
            "\n",
            "\n",
            "This section should be read in conjunction with Part II, Item 7, “Management’s Discussion and Analysis of Financial Condition and Results of Operations” and the consolidated financial statements and accompanying notes in Part II, Item 8, “Financial Statements and Supplementary Data” of this Form 10-K.\n",
            "\n",
            "\n"
          ]
        }
      ],
      "source": [
        "for element in risk_narrative[:3]:\n",
        "    print(element)\n",
        "    print(\"\\n\")"
      ]
    },
    {
      "cell_type": "code",
      "execution_count": null,
      "metadata": {
        "id": "UliL5XmtIL_w"
      },
      "outputs": [],
      "source": [
        "from unstructured.staging.label_studio import stage_for_label_studio"
      ]
    },
    {
      "cell_type": "code",
      "execution_count": null,
      "metadata": {
        "colab": {
          "base_uri": "https://localhost:8080/"
        },
        "id": "mySlQj1WIScW",
        "outputId": "dfffa2c8-fe23-4cfd-e5ae-7ddd50e6f63f"
      },
      "outputs": [
        {
          "output_type": "execute_result",
          "data": {
            "text/plain": [
              "[{'data': {'text': 'You should carefully consider the risks described in this section. Our future performance is subject to risks and uncertainties that could have a material adverse effect on our business, results of operations, and financial condition and the trading price of our common stock. We may be subject to other risks and uncertainties not presently known to us. In addition, please see our note about forward-looking statements included in the MD&A.',\n",
              "   'ref_id': '7a912bb639b547404be4ceaf5d9083a9'}},\n",
              " {'data': {'text': 'Our revenue is subject to volatility in metal prices, which could negatively affect our results of operations or cash flow.',\n",
              "   'ref_id': 'd4cc8e0e0c2b68ef69282c5250b721c9'}},\n",
              " {'data': {'text': 'Market prices for gold, silver, copper, nickel, and other metals may fluctuate widely over time and are affected by numerous factors beyond our control. These factors include metal supply and demand, industrial and jewelry fabrication, investment demand, central banking actions, inflation expectations, currency values, interest rates, forward sales by metal producers, and political, trade, economic, or banking conditions.',\n",
              "   'ref_id': '96515fdbe9e0c547a557c2fe30137176'}},\n",
              " {'data': {'text': 'Our revenue is directly tied to metal prices and is particularly sensitive to changes in the price of gold, as we derive a majority of our revenue from gold stream and royalty interests. Under our stream agreements, we purchase metal at a fixed price or a stated percentage of the market price and then sell the metal in the open market. If market prices decline, our revenue and cash flow from metal sales decline. A price decline can also impact our revenue under certain sliding-scale royalty agreements as we may receive a lower royalty rate when prices fall below specified thresholds. In addition, some',\n",
              "   'ref_id': '29f82037f1e3bf53caf85af1a87aa539'}},\n",
              " {'data': {'text': 'of our royalty agreements are based on the operator’s concentrate sales to smelters and allow for price adjustments between the operator and the smelter based on metals prices on a future date, typically three to five months after shipment of concentrate. These price adjustments can decrease our revenue in future periods if metal prices decline following shipment.',\n",
              "   'ref_id': 'f80f60dd8411ce334de241dc3088f331'}}]"
            ]
          },
          "metadata": {},
          "execution_count": 31
        }
      ],
      "source": [
        "label_studio_data = stage_for_label_studio(risk_narrative)\n",
        "label_studio_data[:5]"
      ]
    },
    {
      "cell_type": "code",
      "execution_count": null,
      "metadata": {
        "id": "-isjnYOJIbBT"
      },
      "outputs": [],
      "source": [
        "# pipeline-api\n",
        "from enum import Enum\n",
        "import re\n",
        "import signal\n",
        "\n",
        "from unstructured.staging.base import convert_to_isd\n",
        "from prepline_sec_filings.sections import (\n",
        "    ALL_SECTIONS,\n",
        "    SECTIONS_10K,\n",
        "    SECTIONS_10Q,\n",
        "    SECTIONS_S1,\n",
        ")"
      ]
    },
    {
      "cell_type": "code",
      "execution_count": null,
      "metadata": {
        "id": "1J3YSmIIIdEE"
      },
      "outputs": [],
      "source": [
        "# pipeline-api\n",
        "class timeout:\n",
        "    def __init__(self, seconds=1, error_message='Timeout'):\n",
        "        self.seconds = seconds\n",
        "        self.error_message = error_message\n",
        "    def handle_timeout(self, signum, frame):\n",
        "        raise TimeoutError(self.error_message)\n",
        "    def __enter__(self):\n",
        "        try:\n",
        "            signal.signal(signal.SIGALRM, self.handle_timeout)\n",
        "            signal.alarm(self.seconds)\n",
        "        except ValueError:\n",
        "            pass\n",
        "    def __exit__(self, type, value, traceback):\n",
        "        try:\n",
        "            signal.alarm(0)\n",
        "        except ValueError:\n",
        "            pass"
      ]
    },
    {
      "cell_type": "code",
      "execution_count": null,
      "metadata": {
        "id": "6NPbas5vId54"
      },
      "outputs": [],
      "source": [
        "# pipeline-api\n",
        "def get_regex_enum(section_regex):\n",
        "    class CustomSECSection(Enum):\n",
        "        CUSTOM = re.compile(section_regex)\n",
        "\n",
        "        @property\n",
        "        def pattern(self):\n",
        "            return self.value\n",
        "\n",
        "    return CustomSECSection.CUSTOM"
      ]
    },
    {
      "cell_type": "code",
      "execution_count": null,
      "metadata": {
        "id": "5qGEaRdzIgC1"
      },
      "outputs": [],
      "source": [
        "# pipeline-api\n",
        "def pipeline_api(text, m_section=[], m_section_regex=[]):\n",
        "    \"\"\"Many supported sections including: RISK_FACTORS, MANAGEMENT_DISCUSSION, and many more\"\"\"\n",
        "    validate_section_names(m_section)\n",
        "\n",
        "    sec_document = SECDocument.from_string(text)\n",
        "    if sec_document.filing_type not in VALID_FILING_TYPES:\n",
        "        raise ValueError(\n",
        "            f\"SEC document filing type {sec_document.filing_type} is not supported, \"\n",
        "            f\"must be one of {','.join(VALID_FILING_TYPES)}\"\n",
        "        )\n",
        "    results = {}\n",
        "    if m_section == [ALL_SECTIONS]:\n",
        "        filing_type = sec_document.filing_type\n",
        "        if filing_type in REPORT_TYPES:\n",
        "            if filing_type.startswith(\"10-K\"):\n",
        "                m_section = [enum.name for enum in SECTIONS_10K]\n",
        "            elif filing_type.startswith(\"10-Q\"):\n",
        "                m_section = [enum.name for enum in SECTIONS_10Q]\n",
        "            else:\n",
        "                raise ValueError(f\"Invalid report type: {filing_type}\")\n",
        "\n",
        "        else:\n",
        "            m_section = [enum.name for enum in SECTIONS_S1]\n",
        "    for section in m_section:\n",
        "        results[section] = sec_document.get_section_narrative(\n",
        "            section_string_to_enum[section]\n",
        "        )\n",
        "    for i, section_regex in enumerate(m_section_regex):\n",
        "        regex_enum = get_regex_enum(section_regex)\n",
        "        with timeout(seconds=5):\n",
        "            section_elements = sec_document.get_section_narrative(regex_enum)\n",
        "            results[f\"REGEX_{i}\"] = section_elements\n",
        "    return {section:convert_to_isd(section_narrative) for section, section_narrative in results.items()}"
      ]
    },
    {
      "cell_type": "code",
      "execution_count": null,
      "metadata": {
        "colab": {
          "base_uri": "https://localhost:8080/"
        },
        "id": "wZ-BLsM_IkQn",
        "outputId": "4dbe5610-6ed4-4a77-9c0e-8b8394551d6a"
      },
      "outputs": [
        {
          "output_type": "execute_result",
          "data": {
            "text/plain": [
              "[{'text': 'You should carefully consider the risks described in this section. Our future performance is subject to risks and uncertainties that could have a material adverse effect on our business, results of operations, and financial condition and the trading price of our common stock. We may be subject to other risks and uncertainties not presently known to us. In addition, please see our note about forward-looking statements included in the MD&A.',\n",
              "  'type': 'NarrativeText'},\n",
              " {'text': 'Our revenue is subject to volatility in metal prices, which could negatively affect our results of operations or cash flow.',\n",
              "  'type': 'NarrativeText'},\n",
              " {'text': 'Market prices for gold, silver, copper, nickel, and other metals may fluctuate widely over time and are affected by numerous factors beyond our control. These factors include metal supply and demand, industrial and jewelry fabrication, investment demand, central banking actions, inflation expectations, currency values, interest rates, forward sales by metal producers, and political, trade, economic, or banking conditions.',\n",
              "  'type': 'NarrativeText'},\n",
              " {'text': 'Our revenue is directly tied to metal prices and is particularly sensitive to changes in the price of gold, as we derive a majority of our revenue from gold stream and royalty interests. Under our stream agreements, we purchase metal at a fixed price or a stated percentage of the market price and then sell the metal in the open market. If market prices decline, our revenue and cash flow from metal sales decline. A price decline can also impact our revenue under certain sliding-scale royalty agreements as we may receive a lower royalty rate when prices fall below specified thresholds. In addition, some',\n",
              "  'type': 'NarrativeText'},\n",
              " {'text': 'of our royalty agreements are based on the operator’s concentrate sales to smelters and allow for price adjustments between the operator and the smelter based on metals prices on a future date, typically three to five months after shipment of concentrate. These price adjustments can decrease our revenue in future periods if metal prices decline following shipment.',\n",
              "  'type': 'NarrativeText'}]"
            ]
          },
          "metadata": {},
          "execution_count": 36
        }
      ],
      "source": [
        "risk_narrative = pipeline_api(text, [\"RISK_FACTORS\"])[\"RISK_FACTORS\"]\n",
        "risk_narrative[:5]"
      ]
    },
    {
      "cell_type": "code",
      "execution_count": null,
      "metadata": {
        "id": "iwlUnCoTItDB",
        "colab": {
          "base_uri": "https://localhost:8080/"
        },
        "outputId": "5743c596-42c0-4e98-f210-3a3dfdd8065a"
      },
      "outputs": [
        {
          "output_type": "stream",
          "name": "stdout",
          "text": [
            "BUSINESS\n",
            "[]\n",
            "---------------\n",
            "RISK_FACTORS\n",
            "[{'text': 'You should carefully consider the risks described in this section. Our future performance is subject to risks and uncertainties that could have a material adverse effect on our business, results of operations, and financial condition and the trading price of our common stock. We may be subject to other risks and uncertainties not presently known to us. In addition, please see our note about forward-looking statements included in the MD&A.', 'type': 'NarrativeText'}, {'text': 'Our revenue is subject to volatility in metal prices, which could negatively affect our results of operations or cash flow.', 'type': 'NarrativeText'}, {'text': 'Market prices for gold, silver, copper, nickel, and other metals may fluctuate widely over time and are affected by numerous factors beyond our control. These factors include metal supply and demand, industrial and jewelry fabrication, investment demand, central banking actions, inflation expectations, currency values, interest rates, forward sales by metal producers, and political, trade, economic, or banking conditions.', 'type': 'NarrativeText'}, {'text': 'Our revenue is directly tied to metal prices and is particularly sensitive to changes in the price of gold, as we derive a majority of our revenue from gold stream and royalty interests. Under our stream agreements, we purchase metal at a fixed price or a stated percentage of the market price and then sell the metal in the open market. If market prices decline, our revenue and cash flow from metal sales decline. A price decline can also impact our revenue under certain sliding-scale royalty agreements as we may receive a lower royalty rate when prices fall below specified thresholds. In addition, some', 'type': 'NarrativeText'}]\n",
            "---------------\n",
            "UNRESOLVED_STAFF_COMMENTS\n",
            "[]\n",
            "---------------\n",
            "PROPERTIES\n",
            "[{'text': 'We do not own or operate the properties on which we hold stream or royalty interests and therefore much of the information disclosed in this Form\\xa010-K regarding these properties is provided to us by the operators. For example, the operators of certain properties provide us information regarding metals production, estimates of mineral reserves and additional mineralized material and production estimates. A list of our producing and development stage streams and royalties, as well their respective reserves, are summarized in Table\\xa01 “Operators’ Estimated Proven and Probable Gold Reserves” below within this Item\\xa02. More information is available to the public regarding certain properties in which we have stream or royalty interests, including reports filed with the SEC or with the Canadian securities regulatory agencies available at www.sec.gov or www.sedar.com, respectively.', 'type': 'NarrativeText'}, {'text': 'We manage our business under two reportable segments, consisting of the acquisition and management of stream interests and the acquisition and management of royalty interests. The description of our principal stream and royalty interests set forth below includes the location, operator, stream or royalty rate, access and any material current developments at the property. For any reported production amounts discussed below, we consider reported production to relate to the amount of metal sales subject to our stream and royalty interests. Please refer to Item\\xa07, MD&A, for discussion on production estimates, historical production and revenue for our principal properties. The map below illustrates the location of our principal producing stage properties.', 'type': 'NarrativeText'}, {'text': 'In 2018, the SEC adopted amendments to the disclosure requirements for mining properties. Effective for fiscal years beginning on or after January 1, 2021, the disclosure requirements under SEC Industry Guide 7 have been replaced with new disclosure requirements under Regulation S-K Subpart 1300. The property and reserve disclosures as of June 30, 2021, contained in this report are presented in accordance with SEC Industry Guide 7. We expect that the property and reserve disclosures as of December 31, 2021, contained in our Transitional Report on Form 10-KT to be filed in early 2022 will be presented in accordance with Regulation S-K Subpart 1300.', 'type': 'NarrativeText'}, {'text': 'We consider both historical and future potential revenues to determine which stream and royalty interests in our portfolio are principal to our business. Estimated future potential revenues from producing properties are based on a number of factors, including reserves subject to our stream and royalty interests, production estimates, feasibility studies, technical reports, metal price assumptions, mine life, legal status and other factors and assumptions, any of which could change and could cause us to conclude that one or more of such stream and royalty interests are no longer principal to our business.', 'type': 'NarrativeText'}]\n",
            "---------------\n",
            "LEGAL_PROCEEDINGS\n",
            "[]\n",
            "---------------\n",
            "MINE_SAFETY\n",
            "[]\n",
            "---------------\n",
            "MARKET_FOR_REGISTRANT_COMMON_EQUITY\n",
            "[]\n",
            "---------------\n",
            "MANAGEMENT_DISCUSSION\n",
            "[{'text': 'A discussion of the changes in our financial condition and results of operations for the fiscal years ended June 30, 2020, and 2019, has been omitted from this report, but may be found in Item 7, MD&A, of our Annual Report on Form 10-K for the year ended June 30, 2020, filed with the SEC on August 6, 2020, which is available free of charge on the SEC’s website at www.sec.gov and our website at www.royalgold.com.', 'type': 'NarrativeText'}, {'text': 'We acquire and manage precious metal streams, royalties, and similar interests. We seek to acquire existing stream and royalty interests or finance projects that are in production or in the development stage in exchange for stream or royalty interests.', 'type': 'NarrativeText'}, {'text': 'We manage our business under two segments:', 'type': 'NarrativeText'}, {'text': 'Acquisition and Management of Stream Interests — A metal stream is a purchase agreement that provides, in exchange for an upfront deposit payment, the right to purchase all or a portion of one or more metals produced from a mine, at a price determined for the life of the transaction by the purchase agreement. As of June 30,\\xa02021, we owned eight stream interests, which are on six producing properties and two development stage properties. Stream interests accounted for 69% and 72% of our total revenue for the fiscal years ended June 30 2021, and 2020, respectively. We expect stream interests to continue representing a significant portion of our total revenue.', 'type': 'ListItem'}]\n",
            "---------------\n",
            "MARKET_RISK_DISCLOSURES\n",
            "[]\n",
            "---------------\n",
            "FINANCIAL_STATEMENTS\n",
            "[{'text': 'We have audited the accompanying consolidated balance sheets of Royal Gold, Inc. (the Company) as of June 30, 2021 and 2020, the related consolidated statements of operations and comprehensive income,\\xa0changes in equity and cash flows for each of the three years in the period ended June 30, 2021, and the related notes\\xa0(collectively referred to as the “consolidated financial statements”). In our opinion, the consolidated financial statements present fairly, in all material respects, the financial position of the Company at June 30, 2021 and 2020, and the results of its operations and its cash flows for each of the three years in the period ended June 30, 2021, in conformity with U.S. generally accepted accounting principles.', 'type': 'NarrativeText'}, {'text': \"We also have audited, in accordance with the standards of the Public Company Accounting Oversight Board (United States) (PCAOB), the Company's internal control over financial reporting as of June 30, 2021, based on criteria established in Internal Control-Integrated Framework issued by the Committee of Sponsoring Organizations of the Treadway Commission (2013 framework), and our report dated August 12, 2021 expressed an unqualified opinion thereon.\", 'type': 'NarrativeText'}, {'text': \"These financial statements are the responsibility of the Company's management. Our responsibility is to express an opinion on the Company’s financial statements based on our audits. We are a public accounting firm registered with the PCAOB and are required to be independent with respect to the Company in accordance with the U.S. federal securities laws and the applicable rules and regulations of the Securities and Exchange Commission and the PCAOB.\", 'type': 'NarrativeText'}, {'text': 'We conducted our audits in accordance with the standards of the PCAOB. Those standards require that we plan and perform the audit to obtain reasonable assurance about whether the financial statements are free of material misstatement, whether due to error or fraud. Our audits included performing procedures to assess the risks of material misstatement of the financial statements, whether due to error or fraud, and performing procedures that respond to those risks. Such procedures included examining, on a test basis, evidence regarding the amounts and disclosures in the financial statements. Our audits also included evaluating the accounting principles used and significant estimates made by management, as well as evaluating the overall presentation of the financial statements. We believe that our audits provide a reasonable basis for our opinion.', 'type': 'NarrativeText'}]\n",
            "---------------\n",
            "ACCOUNTING_DISAGREEMENTS\n",
            "[]\n",
            "---------------\n",
            "CONTROLS_AND_PROCEDURES\n",
            "[{'text': 'Under the supervision and with the participation of our management, including our Chief Executive Officer and Chief Financial Officer, we evaluated the effectiveness of the design and operation of our disclosure controls and procedures as of June 30, 2021. Based on this evaluation, our Chief Executive Officer and Chief Financial Officer have concluded that our disclosure controls and procedures were effective as of June 30, 2021, at the reasonable assurance level.', 'type': 'NarrativeText'}, {'text': 'Our management is responsible for establishing and maintaining adequate internal control over financial reporting. Our internal control over financial reporting is designed to provide reasonable assurance regarding the reliability of financial reporting and the preparation of financial statements for external purposes in accordance with generally accepted accounting principles.', 'type': 'NarrativeText'}, {'text': 'Management assessed the effectiveness of our internal control over financial reporting as of June\\xa030,\\xa02021. In making this assessment, management used the criteria set forth by the Committee of Sponsoring Organizations of the Treadway Commission (COSO) in Internal Control—Integrated Framework (2013 Framework). Based on management’s assessment and those criteria, management concluded that our internal control over financial reporting was effective as of June 30, 2021.', 'type': 'NarrativeText'}, {'text': 'Our independent registered public accounting firm, Ernst\\xa0& Young\\xa0LLP, has issued an attestation report on our internal control over financial reporting as of June\\xa030,\\xa02021.', 'type': 'NarrativeText'}]\n",
            "---------------\n",
            "FOREIGN_JURISDICTIONS\n",
            "[]\n",
            "---------------\n",
            "MANAGEMENT\n",
            "[{'text': 'A discussion of the changes in our financial condition and results of operations for the fiscal years ended June 30, 2020, and 2019, has been omitted from this report, but may be found in Item 7, MD&A, of our Annual Report on Form 10-K for the year ended June 30, 2020, filed with the SEC on August 6, 2020, which is available free of charge on the SEC’s website at www.sec.gov and our website at www.royalgold.com.', 'type': 'NarrativeText'}, {'text': 'We acquire and manage precious metal streams, royalties, and similar interests. We seek to acquire existing stream and royalty interests or finance projects that are in production or in the development stage in exchange for stream or royalty interests.', 'type': 'NarrativeText'}, {'text': 'We manage our business under two segments:', 'type': 'NarrativeText'}, {'text': 'Acquisition and Management of Stream Interests — A metal stream is a purchase agreement that provides, in exchange for an upfront deposit payment, the right to purchase all or a portion of one or more metals produced from a mine, at a price determined for the life of the transaction by the purchase agreement. As of June 30,\\xa02021, we owned eight stream interests, which are on six producing properties and two development stage properties. Stream interests accounted for 69% and 72% of our total revenue for the fiscal years ended June 30 2021, and 2020, respectively. We expect stream interests to continue representing a significant portion of our total revenue.', 'type': 'ListItem'}]\n",
            "---------------\n",
            "COMPENSATION\n",
            "[{'text': 'The information required by this item will be included in our proxy statement for our 2021 annual stockholders’ meeting to be filed with the SEC within 120\\xa0days after June\\xa030,\\xa02021, and is incorporated by reference into this report.', 'type': 'NarrativeText'}]\n",
            "---------------\n",
            "PRINCIPAL_STOCKHOLDERS\n",
            "[{'text': 'The information required by this item will be included in our proxy statement for our 2021 annual stockholders’ meeting to be filed with the SEC within 120\\xa0days after June\\xa030,\\xa02021, and is incorporated by reference into this report.', 'type': 'NarrativeText'}]\n",
            "---------------\n",
            "RELATED_PARTY_TRANSACTIONS\n",
            "[]\n",
            "---------------\n",
            "ACCOUNTING_FEES\n",
            "[]\n",
            "---------------\n",
            "EXHIBITS\n",
            "[{'text': 'Restated Certificate of Incorporation, as amended (filed as Exhibit\\xa03.1 to Royal Gold’s Quarterly Report on Form 10-Q filed on May 3, 2018, and incorporated herein by reference)', 'type': 'NarrativeText'}, {'text': 'Amended and Restated Bylaws, amended as of August 9, 2021 (filed as Exhibit\\xa03.1 to Royal Gold’s Current Report on Form\\xa08-K on August 11, 2021, and incorporated herein by reference)', 'type': 'NarrativeText'}, {'text': 'Amended and Restated Certificate of Designations of Series\\xa0A Junior Participating Preferred Stock of Royal Gold,\\xa0Inc. (filed as Exhibit\\xa03.1 to Royal Gold’s Current Report on Form\\xa08-K on September\\xa010, 2007, and incorporated herein by reference)', 'type': 'NarrativeText'}, {'text': 'Certificate of Designations, Preferences and Rights of the Special Voting Preferred Stock of Royal Gold,\\xa0Inc. (filed as Exhibit\\xa04.1 to Royal Gold’s Current Report on Form\\xa08-K on February\\xa023, 2010, and incorporated herein by reference)', 'type': 'NarrativeText'}]\n",
            "---------------\n",
            "FORM_SUMMARY\n",
            "[{'text': 'Registrants may voluntarily include a summary of information required by Form 10-K under this Item 16. We have elected not to include this summary information.', 'type': 'NarrativeText'}]\n",
            "---------------\n"
          ]
        }
      ],
      "source": [
        "all_narratives = pipeline_api(text, [\"_ALL\"])\n",
        "for section, elems in all_narratives.items():\n",
        "    print(section)\n",
        "    print(elems[:4])\n",
        "    print(\"---------------\")"
      ]
    }
  ],
  "metadata": {
    "colab": {
      "provenance": []
    },
    "kernelspec": {
      "display_name": "Python 3",
      "name": "python3"
    },
    "language_info": {
      "name": "python"
    }
  },
  "nbformat": 4,
  "nbformat_minor": 0
}